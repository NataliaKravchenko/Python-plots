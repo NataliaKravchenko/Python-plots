{
 "cells": [
  {
   "cell_type": "code",
   "execution_count": 3,
   "metadata": {},
   "outputs": [],
   "source": [
    "# Import libraries\n",
    "import numpy as np \n",
    "import pandas as pd \n",
    "import plotly as py\n",
    "import plotly.express as px"
   ]
  },
  {
   "cell_type": "code",
   "execution_count": 4,
   "metadata": {},
   "outputs": [],
   "source": [
    "# Read Data\n",
    "df = pd.read_csv(r\"C:\\Users\\Nat\\Documents\\Python datasets\\COVID19_line_list_data.csv\")"
   ]
  },
  {
   "cell_type": "code",
   "execution_count": 5,
   "metadata": {},
   "outputs": [
    {
     "data": {
      "text/html": [
       "<div>\n",
       "<style scoped>\n",
       "    .dataframe tbody tr th:only-of-type {\n",
       "        vertical-align: middle;\n",
       "    }\n",
       "\n",
       "    .dataframe tbody tr th {\n",
       "        vertical-align: top;\n",
       "    }\n",
       "\n",
       "    .dataframe thead th {\n",
       "        text-align: right;\n",
       "    }\n",
       "</style>\n",
       "<table border=\"1\" class=\"dataframe\">\n",
       "  <thead>\n",
       "    <tr style=\"text-align: right;\">\n",
       "      <th></th>\n",
       "      <th>id</th>\n",
       "      <th>case_in_country</th>\n",
       "      <th>reporting date</th>\n",
       "      <th>Unnamed: 3</th>\n",
       "      <th>summary</th>\n",
       "      <th>location</th>\n",
       "      <th>country</th>\n",
       "      <th>gender</th>\n",
       "      <th>age</th>\n",
       "      <th>symptom_onset</th>\n",
       "      <th>...</th>\n",
       "      <th>recovered</th>\n",
       "      <th>symptom</th>\n",
       "      <th>source</th>\n",
       "      <th>link</th>\n",
       "      <th>Unnamed: 21</th>\n",
       "      <th>Unnamed: 22</th>\n",
       "      <th>Unnamed: 23</th>\n",
       "      <th>Unnamed: 24</th>\n",
       "      <th>Unnamed: 25</th>\n",
       "      <th>Unnamed: 26</th>\n",
       "    </tr>\n",
       "  </thead>\n",
       "  <tbody>\n",
       "    <tr>\n",
       "      <td>0</td>\n",
       "      <td>1</td>\n",
       "      <td>NaN</td>\n",
       "      <td>1/20/2020</td>\n",
       "      <td>NaN</td>\n",
       "      <td>First confirmed imported COVID-19 pneumonia pa...</td>\n",
       "      <td>Shenzhen, Guangdong</td>\n",
       "      <td>China</td>\n",
       "      <td>male</td>\n",
       "      <td>66.0</td>\n",
       "      <td>01/03/20</td>\n",
       "      <td>...</td>\n",
       "      <td>0</td>\n",
       "      <td>NaN</td>\n",
       "      <td>Shenzhen Municipal Health Commission</td>\n",
       "      <td>http://wjw.sz.gov.cn/wzx/202001/t20200120_1898...</td>\n",
       "      <td>NaN</td>\n",
       "      <td>NaN</td>\n",
       "      <td>NaN</td>\n",
       "      <td>NaN</td>\n",
       "      <td>NaN</td>\n",
       "      <td>NaN</td>\n",
       "    </tr>\n",
       "  </tbody>\n",
       "</table>\n",
       "<p>1 rows × 27 columns</p>\n",
       "</div>"
      ],
      "text/plain": [
       "   id  case_in_country reporting date  Unnamed: 3  \\\n",
       "0   1              NaN      1/20/2020         NaN   \n",
       "\n",
       "                                             summary             location  \\\n",
       "0  First confirmed imported COVID-19 pneumonia pa...  Shenzhen, Guangdong   \n",
       "\n",
       "  country gender   age symptom_onset  ...  recovered symptom  \\\n",
       "0   China   male  66.0      01/03/20  ...          0     NaN   \n",
       "\n",
       "                                 source  \\\n",
       "0  Shenzhen Municipal Health Commission   \n",
       "\n",
       "                                                link  Unnamed: 21  \\\n",
       "0  http://wjw.sz.gov.cn/wzx/202001/t20200120_1898...          NaN   \n",
       "\n",
       "   Unnamed: 22 Unnamed: 23 Unnamed: 24 Unnamed: 25 Unnamed: 26  \n",
       "0          NaN         NaN         NaN         NaN         NaN  \n",
       "\n",
       "[1 rows x 27 columns]"
      ]
     },
     "execution_count": 5,
     "metadata": {},
     "output_type": "execute_result"
    }
   ],
   "source": [
    "df.head(1)"
   ]
  },
  {
   "cell_type": "code",
   "execution_count": 6,
   "metadata": {},
   "outputs": [
    {
     "data": {
      "text/html": [
       "<div>\n",
       "<style scoped>\n",
       "    .dataframe tbody tr th:only-of-type {\n",
       "        vertical-align: middle;\n",
       "    }\n",
       "\n",
       "    .dataframe tbody tr th {\n",
       "        vertical-align: top;\n",
       "    }\n",
       "\n",
       "    .dataframe thead th {\n",
       "        text-align: right;\n",
       "    }\n",
       "</style>\n",
       "<table border=\"1\" class=\"dataframe\">\n",
       "  <thead>\n",
       "    <tr style=\"text-align: right;\">\n",
       "      <th></th>\n",
       "      <th>reporting date</th>\n",
       "      <th>country</th>\n",
       "      <th>id</th>\n",
       "      <th>case_in_country</th>\n",
       "      <th>Unnamed: 3</th>\n",
       "      <th>age</th>\n",
       "      <th>If_onset_approximated</th>\n",
       "      <th>visiting Wuhan</th>\n",
       "      <th>from Wuhan</th>\n",
       "      <th>Unnamed: 21</th>\n",
       "      <th>Unnamed: 22</th>\n",
       "      <th>Unnamed: 23</th>\n",
       "      <th>Unnamed: 24</th>\n",
       "      <th>Unnamed: 25</th>\n",
       "      <th>Unnamed: 26</th>\n",
       "    </tr>\n",
       "  </thead>\n",
       "  <tbody>\n",
       "    <tr>\n",
       "      <td>0</td>\n",
       "      <td>02/01/20</td>\n",
       "      <td>Australia</td>\n",
       "      <td>2331</td>\n",
       "      <td>33.0</td>\n",
       "      <td>0.0</td>\n",
       "      <td>145.0</td>\n",
       "      <td>0.0</td>\n",
       "      <td>1</td>\n",
       "      <td>2.0</td>\n",
       "      <td>0.0</td>\n",
       "      <td>0.0</td>\n",
       "      <td>0.0</td>\n",
       "      <td>0.0</td>\n",
       "      <td>0.0</td>\n",
       "      <td>0.0</td>\n",
       "    </tr>\n",
       "    <tr>\n",
       "      <td>1</td>\n",
       "      <td>02/01/20</td>\n",
       "      <td>Canada</td>\n",
       "      <td>785</td>\n",
       "      <td>4.0</td>\n",
       "      <td>0.0</td>\n",
       "      <td>25.0</td>\n",
       "      <td>0.0</td>\n",
       "      <td>1</td>\n",
       "      <td>0.0</td>\n",
       "      <td>0.0</td>\n",
       "      <td>0.0</td>\n",
       "      <td>0.0</td>\n",
       "      <td>0.0</td>\n",
       "      <td>0.0</td>\n",
       "      <td>0.0</td>\n",
       "    </tr>\n",
       "    <tr>\n",
       "      <td>2</td>\n",
       "      <td>02/01/20</td>\n",
       "      <td>Germany</td>\n",
       "      <td>803</td>\n",
       "      <td>8.0</td>\n",
       "      <td>0.0</td>\n",
       "      <td>33.0</td>\n",
       "      <td>0.0</td>\n",
       "      <td>0</td>\n",
       "      <td>0.0</td>\n",
       "      <td>0.0</td>\n",
       "      <td>0.0</td>\n",
       "      <td>0.0</td>\n",
       "      <td>0.0</td>\n",
       "      <td>0.0</td>\n",
       "      <td>0.0</td>\n",
       "    </tr>\n",
       "    <tr>\n",
       "      <td>3</td>\n",
       "      <td>02/01/20</td>\n",
       "      <td>Japan</td>\n",
       "      <td>753</td>\n",
       "      <td>45.0</td>\n",
       "      <td>0.0</td>\n",
       "      <td>125.0</td>\n",
       "      <td>0.0</td>\n",
       "      <td>3</td>\n",
       "      <td>0.0</td>\n",
       "      <td>0.0</td>\n",
       "      <td>0.0</td>\n",
       "      <td>0.0</td>\n",
       "      <td>0.0</td>\n",
       "      <td>0.0</td>\n",
       "      <td>0.0</td>\n",
       "    </tr>\n",
       "    <tr>\n",
       "      <td>4</td>\n",
       "      <td>02/01/20</td>\n",
       "      <td>Singapore</td>\n",
       "      <td>935</td>\n",
       "      <td>35.0</td>\n",
       "      <td>0.0</td>\n",
       "      <td>78.0</td>\n",
       "      <td>0.0</td>\n",
       "      <td>2</td>\n",
       "      <td>0.0</td>\n",
       "      <td>0.0</td>\n",
       "      <td>0.0</td>\n",
       "      <td>0.0</td>\n",
       "      <td>0.0</td>\n",
       "      <td>0.0</td>\n",
       "      <td>0.0</td>\n",
       "    </tr>\n",
       "    <tr>\n",
       "      <td>...</td>\n",
       "      <td>...</td>\n",
       "      <td>...</td>\n",
       "      <td>...</td>\n",
       "      <td>...</td>\n",
       "      <td>...</td>\n",
       "      <td>...</td>\n",
       "      <td>...</td>\n",
       "      <td>...</td>\n",
       "      <td>...</td>\n",
       "      <td>...</td>\n",
       "      <td>...</td>\n",
       "      <td>...</td>\n",
       "      <td>...</td>\n",
       "      <td>...</td>\n",
       "      <td>...</td>\n",
       "    </tr>\n",
       "    <tr>\n",
       "      <td>270</td>\n",
       "      <td>2/28/2020</td>\n",
       "      <td>Spain</td>\n",
       "      <td>9234</td>\n",
       "      <td>270.0</td>\n",
       "      <td>0.0</td>\n",
       "      <td>435.0</td>\n",
       "      <td>0.0</td>\n",
       "      <td>0</td>\n",
       "      <td>0.0</td>\n",
       "      <td>0.0</td>\n",
       "      <td>0.0</td>\n",
       "      <td>0.0</td>\n",
       "      <td>0.0</td>\n",
       "      <td>0.0</td>\n",
       "      <td>0.0</td>\n",
       "    </tr>\n",
       "    <tr>\n",
       "      <td>271</td>\n",
       "      <td>2/28/2020</td>\n",
       "      <td>Taiwan</td>\n",
       "      <td>1381</td>\n",
       "      <td>67.0</td>\n",
       "      <td>0.0</td>\n",
       "      <td>90.0</td>\n",
       "      <td>0.0</td>\n",
       "      <td>0</td>\n",
       "      <td>0.0</td>\n",
       "      <td>0.0</td>\n",
       "      <td>0.0</td>\n",
       "      <td>0.0</td>\n",
       "      <td>0.0</td>\n",
       "      <td>0.0</td>\n",
       "      <td>0.0</td>\n",
       "    </tr>\n",
       "    <tr>\n",
       "      <td>272</td>\n",
       "      <td>2/28/2020</td>\n",
       "      <td>Thailand</td>\n",
       "      <td>732</td>\n",
       "      <td>41.0</td>\n",
       "      <td>0.0</td>\n",
       "      <td>25.0</td>\n",
       "      <td>0.0</td>\n",
       "      <td>0</td>\n",
       "      <td>0.0</td>\n",
       "      <td>0.0</td>\n",
       "      <td>0.0</td>\n",
       "      <td>0.0</td>\n",
       "      <td>0.0</td>\n",
       "      <td>0.0</td>\n",
       "      <td>0.0</td>\n",
       "    </tr>\n",
       "    <tr>\n",
       "      <td>273</td>\n",
       "      <td>2/28/2020</td>\n",
       "      <td>UAE</td>\n",
       "      <td>1739</td>\n",
       "      <td>41.0</td>\n",
       "      <td>0.0</td>\n",
       "      <td>0.0</td>\n",
       "      <td>0.0</td>\n",
       "      <td>0</td>\n",
       "      <td>0.0</td>\n",
       "      <td>0.0</td>\n",
       "      <td>0.0</td>\n",
       "      <td>0.0</td>\n",
       "      <td>0.0</td>\n",
       "      <td>0.0</td>\n",
       "      <td>0.0</td>\n",
       "    </tr>\n",
       "    <tr>\n",
       "      <td>274</td>\n",
       "      <td>2/28/2020</td>\n",
       "      <td>UK</td>\n",
       "      <td>3950</td>\n",
       "      <td>74.0</td>\n",
       "      <td>0.0</td>\n",
       "      <td>0.0</td>\n",
       "      <td>0.0</td>\n",
       "      <td>0</td>\n",
       "      <td>0.0</td>\n",
       "      <td>0.0</td>\n",
       "      <td>0.0</td>\n",
       "      <td>0.0</td>\n",
       "      <td>0.0</td>\n",
       "      <td>0.0</td>\n",
       "      <td>0.0</td>\n",
       "    </tr>\n",
       "  </tbody>\n",
       "</table>\n",
       "<p>275 rows × 15 columns</p>\n",
       "</div>"
      ],
      "text/plain": [
       "    reporting date    country    id  case_in_country  Unnamed: 3    age  \\\n",
       "0         02/01/20  Australia  2331             33.0         0.0  145.0   \n",
       "1         02/01/20     Canada   785              4.0         0.0   25.0   \n",
       "2         02/01/20    Germany   803              8.0         0.0   33.0   \n",
       "3         02/01/20      Japan   753             45.0         0.0  125.0   \n",
       "4         02/01/20  Singapore   935             35.0         0.0   78.0   \n",
       "..             ...        ...   ...              ...         ...    ...   \n",
       "270      2/28/2020      Spain  9234            270.0         0.0  435.0   \n",
       "271      2/28/2020     Taiwan  1381             67.0         0.0   90.0   \n",
       "272      2/28/2020   Thailand   732             41.0         0.0   25.0   \n",
       "273      2/28/2020        UAE  1739             41.0         0.0    0.0   \n",
       "274      2/28/2020         UK  3950             74.0         0.0    0.0   \n",
       "\n",
       "     If_onset_approximated  visiting Wuhan  from Wuhan  Unnamed: 21  \\\n",
       "0                      0.0               1         2.0          0.0   \n",
       "1                      0.0               1         0.0          0.0   \n",
       "2                      0.0               0         0.0          0.0   \n",
       "3                      0.0               3         0.0          0.0   \n",
       "4                      0.0               2         0.0          0.0   \n",
       "..                     ...             ...         ...          ...   \n",
       "270                    0.0               0         0.0          0.0   \n",
       "271                    0.0               0         0.0          0.0   \n",
       "272                    0.0               0         0.0          0.0   \n",
       "273                    0.0               0         0.0          0.0   \n",
       "274                    0.0               0         0.0          0.0   \n",
       "\n",
       "     Unnamed: 22  Unnamed: 23  Unnamed: 24  Unnamed: 25  Unnamed: 26  \n",
       "0            0.0          0.0          0.0          0.0          0.0  \n",
       "1            0.0          0.0          0.0          0.0          0.0  \n",
       "2            0.0          0.0          0.0          0.0          0.0  \n",
       "3            0.0          0.0          0.0          0.0          0.0  \n",
       "4            0.0          0.0          0.0          0.0          0.0  \n",
       "..           ...          ...          ...          ...          ...  \n",
       "270          0.0          0.0          0.0          0.0          0.0  \n",
       "271          0.0          0.0          0.0          0.0          0.0  \n",
       "272          0.0          0.0          0.0          0.0          0.0  \n",
       "273          0.0          0.0          0.0          0.0          0.0  \n",
       "274          0.0          0.0          0.0          0.0          0.0  \n",
       "\n",
       "[275 rows x 15 columns]"
      ]
     },
     "execution_count": 6,
     "metadata": {},
     "output_type": "execute_result"
    }
   ],
   "source": [
    "# Selecting data\n",
    "df_countrydate = df[df['case_in_country']>0]\n",
    "df_countrydate = df_countrydate.groupby(['reporting date','country']).sum().reset_index()\n",
    "df_countrydate"
   ]
  },
  {
   "cell_type": "code",
   "execution_count": 9,
   "metadata": {},
   "outputs": [
    {
     "data": {
      "application/vnd.plotly.v1+json": {
       "config": {
        "plotlyServerURL": "https://plot.ly"
       },
       "data": [
        {
         "coloraxis": "coloraxis",
         "geo": "geo",
         "hovertemplate": "<b>%{hovertext}</b><br><br>reporting date=02/01/20<br>country=%{location}<br>case_in_country=%{z}<extra></extra>",
         "hovertext": [
          "Australia",
          "Canada",
          "Germany",
          "Japan",
          "Singapore",
          "South Korea",
          "UAE"
         ],
         "locationmode": "country names",
         "locations": [
          "Australia",
          "Canada",
          "Germany",
          "Japan",
          "Singapore",
          "South Korea",
          "UAE"
         ],
         "name": "",
         "type": "choropleth",
         "z": [
          33,
          4,
          8,
          45,
          35,
          12,
          5
         ]
        }
       ],
       "frames": [
        {
         "data": [
          {
           "coloraxis": "coloraxis",
           "geo": "geo",
           "hovertemplate": "<b>%{hovertext}</b><br><br>reporting date=02/01/20<br>country=%{location}<br>case_in_country=%{z}<extra></extra>",
           "hovertext": [
            "Australia",
            "Canada",
            "Germany",
            "Japan",
            "Singapore",
            "South Korea",
            "UAE"
           ],
           "locationmode": "country names",
           "locations": [
            "Australia",
            "Canada",
            "Germany",
            "Japan",
            "Singapore",
            "South Korea",
            "UAE"
           ],
           "name": "",
           "type": "choropleth",
           "z": [
            33,
            4,
            8,
            45,
            35,
            12,
            5
           ]
          }
         ],
         "name": "02/01/20"
        },
        {
         "data": [
          {
           "coloraxis": "coloraxis",
           "geo": "geo",
           "hovertemplate": "<b>%{hovertext}</b><br><br>reporting date=02/02/20<br>country=%{location}<br>case_in_country=%{z}<extra></extra>",
           "hovertext": [
            "Germany",
            "Hong Kong",
            "India",
            "Phillipines",
            "South Korea"
           ],
           "locationmode": "country names",
           "locations": [
            "Germany",
            "Hong Kong",
            "India",
            "Phillipines",
            "South Korea"
           ],
           "name": "",
           "type": "choropleth",
           "z": [
            19,
            29,
            2,
            3,
            42
           ]
          }
         ],
         "name": "02/02/20"
        },
        {
         "data": [
          {
           "coloraxis": "coloraxis",
           "geo": "geo",
           "hovertemplate": "<b>%{hovertext}</b><br><br>reporting date=02/03/20<br>country=%{location}<br>case_in_country=%{z}<extra></extra>",
           "hovertext": [
            "India",
            "USA",
            "Vietnam"
           ],
           "locationmode": "country names",
           "locations": [
            "India",
            "USA",
            "Vietnam"
           ],
           "name": "",
           "type": "choropleth",
           "z": [
            3,
            30,
            21
           ]
          }
         ],
         "name": "02/03/20"
        },
        {
         "data": [
          {
           "coloraxis": "coloraxis",
           "geo": "geo",
           "hovertemplate": "<b>%{hovertext}</b><br><br>reporting date=02/04/20<br>country=%{location}<br>case_in_country=%{z}<extra></extra>",
           "hovertext": [
            "Australia",
            "Belgium",
            "Hong Kong",
            "Japan",
            "Malaysia",
            "Singapore",
            "South Korea",
            "Thailand",
            "Vietnam"
           ],
           "locationmode": "country names",
           "locations": [
            "Australia",
            "Belgium",
            "Hong Kong",
            "Japan",
            "Malaysia",
            "Singapore",
            "South Korea",
            "Thailand",
            "Vietnam"
           ],
           "name": "",
           "type": "choropleth",
           "z": [
            13,
            1,
            51,
            54,
            19,
            129,
            16,
            115,
            19
           ]
          }
         ],
         "name": "02/04/20"
        },
        {
         "data": [
          {
           "coloraxis": "coloraxis",
           "geo": "geo",
           "hovertemplate": "<b>%{hovertext}</b><br><br>reporting date=02/05/20<br>country=%{location}<br>case_in_country=%{z}<extra></extra>",
           "hovertext": [
            "Australia",
            "Canada",
            "Germany",
            "Hong Kong",
            "Japan",
            "Malaysia",
            "Phillipines",
            "Singapore",
            "South Korea",
            "Taiwan",
            "USA"
           ],
           "locationmode": "country names",
           "locations": [
            "Australia",
            "Canada",
            "Germany",
            "Hong Kong",
            "Japan",
            "Malaysia",
            "Phillipines",
            "Singapore",
            "South Korea",
            "Taiwan",
            "USA"
           ],
           "name": "",
           "type": "choropleth",
           "z": [
            14,
            5,
            23,
            60,
            63,
            23,
            3,
            106,
            54,
            11,
            12
           ]
          }
         ],
         "name": "02/05/20"
        },
        {
         "data": [
          {
           "coloraxis": "coloraxis",
           "geo": "geo",
           "hovertemplate": "<b>%{hovertext}</b><br><br>reporting date=02/06/20<br>country=%{location}<br>case_in_country=%{z}<extra></extra>",
           "hovertext": [
            "Australia",
            "Canada",
            "Germany",
            "Hong Kong",
            "Italy",
            "Malaysia",
            "Singapore",
            "South Korea",
            "Taiwan",
            "UK",
            "Vietnam"
           ],
           "locationmode": "country names",
           "locations": [
            "Australia",
            "Canada",
            "Germany",
            "Hong Kong",
            "Italy",
            "Malaysia",
            "Singapore",
            "South Korea",
            "Taiwan",
            "UK",
            "Vietnam"
           ],
           "name": "",
           "type": "choropleth",
           "z": [
            15,
            13,
            13,
            69,
            3,
            27,
            59,
            86,
            70,
            3,
            23
           ]
          }
         ],
         "name": "02/06/20"
        },
        {
         "data": [
          {
           "coloraxis": "coloraxis",
           "geo": "geo",
           "hovertemplate": "<b>%{hovertext}</b><br><br>reporting date=02/07/20<br>country=%{location}<br>case_in_country=%{z}<extra></extra>",
           "hovertext": [
            "Germany",
            "Hong Kong",
            "Malaysia",
            "Singapore",
            "South Korea"
           ],
           "locationmode": "country names",
           "locations": [
            "Germany",
            "Hong Kong",
            "Malaysia",
            "Singapore",
            "South Korea"
           ],
           "name": "",
           "type": "choropleth",
           "z": [
            14,
            51,
            15,
            96,
            24
           ]
          }
         ],
         "name": "02/07/20"
        },
        {
         "data": [
          {
           "coloraxis": "coloraxis",
           "geo": "geo",
           "hovertemplate": "<b>%{hovertext}</b><br><br>reporting date=02/08/20<br>country=%{location}<br>case_in_country=%{z}<extra></extra>",
           "hovertext": [
            "France",
            "Japan",
            "Malaysia",
            "Singapore",
            "Taiwan",
            "Thailand",
            "UAE",
            "Vietnam"
           ],
           "locationmode": "country names",
           "locations": [
            "France",
            "Japan",
            "Malaysia",
            "Singapore",
            "Taiwan",
            "Thailand",
            "UAE",
            "Vietnam"
           ],
           "name": "",
           "type": "choropleth",
           "z": [
            45,
            23,
            16,
            259,
            35,
            203,
            13,
            13
           ]
          }
         ],
         "name": "02/08/20"
        },
        {
         "data": [
          {
           "coloraxis": "coloraxis",
           "geo": "geo",
           "hovertemplate": "<b>%{hovertext}</b><br><br>reporting date=02/09/20<br>country=%{location}<br>case_in_country=%{z}<extra></extra>",
           "hovertext": [
            "Hong Kong",
            "Malaysia",
            "Singapore",
            "South Korea",
            "UK",
            "Vietnam"
           ],
           "locationmode": "country names",
           "locations": [
            "Hong Kong",
            "Malaysia",
            "Singapore",
            "South Korea",
            "UK",
            "Vietnam"
           ],
           "name": "",
           "type": "choropleth",
           "z": [
            315,
            17,
            126,
            78,
            4,
            14
           ]
          }
         ],
         "name": "02/09/20"
        },
        {
         "data": [
          {
           "coloraxis": "coloraxis",
           "geo": "geo",
           "hovertemplate": "<b>%{hovertext}</b><br><br>reporting date=02/10/20<br>country=%{location}<br>case_in_country=%{z}<extra></extra>",
           "hovertext": [
            "Hong Kong",
            "Japan",
            "Malaysia",
            "Singapore",
            "Spain",
            "UAE",
            "UK",
            "USA",
            "Vietnam"
           ],
           "locationmode": "country names",
           "locations": [
            "Hong Kong",
            "Japan",
            "Malaysia",
            "Singapore",
            "Spain",
            "UAE",
            "UK",
            "USA",
            "Vietnam"
           ],
           "name": "",
           "type": "choropleth",
           "z": [
            237,
            49,
            18,
            89,
            2,
            8,
            26,
            13,
            15
           ]
          }
         ],
         "name": "02/10/20"
        },
        {
         "data": [
          {
           "coloraxis": "coloraxis",
           "geo": "geo",
           "hovertemplate": "<b>%{hovertext}</b><br><br>reporting date=02/11/20<br>country=%{location}<br>case_in_country=%{z}<extra></extra>",
           "hovertext": [
            "Germany",
            "Hong Kong",
            "Singapore",
            "South Korea",
            "Thailand"
           ],
           "locationmode": "country names",
           "locations": [
            "Germany",
            "Hong Kong",
            "Singapore",
            "South Korea",
            "Thailand"
           ],
           "name": "",
           "type": "choropleth",
           "z": [
            31,
            322,
            93,
            28,
            33
           ]
          }
         ],
         "name": "02/11/20"
        },
        {
         "data": [
          {
           "coloraxis": "coloraxis",
           "geo": "geo",
           "hovertemplate": "<b>%{hovertext}</b><br><br>reporting date=02/12/20<br>country=%{location}<br>case_in_country=%{z}<extra></extra>",
           "hovertext": [
            "Hong Kong",
            "Singapore",
            "UK",
            "USA"
           ],
           "locationmode": "country names",
           "locations": [
            "Hong Kong",
            "Singapore",
            "UK",
            "USA"
           ],
           "name": "",
           "type": "choropleth",
           "z": [
            50,
            147,
            9,
            14
           ]
          }
         ],
         "name": "02/12/20"
        },
        {
         "data": [
          {
           "coloraxis": "coloraxis",
           "geo": "geo",
           "hovertemplate": "<b>%{hovertext}</b><br><br>reporting date=1/13/2020<br>country=%{location}<br>case_in_country=%{z}<extra></extra>",
           "hovertext": [
            "Thailand"
           ],
           "locationmode": "country names",
           "locations": [
            "Thailand"
           ],
           "name": "",
           "type": "choropleth",
           "z": [
            1
           ]
          }
         ],
         "name": "1/13/2020"
        },
        {
         "data": [
          {
           "coloraxis": "coloraxis",
           "geo": "geo",
           "hovertemplate": "<b>%{hovertext}</b><br><br>reporting date=1/15/2020<br>country=%{location}<br>case_in_country=%{z}<extra></extra>",
           "hovertext": [
            "Japan"
           ],
           "locationmode": "country names",
           "locations": [
            "Japan"
           ],
           "name": "",
           "type": "choropleth",
           "z": [
            1
           ]
          }
         ],
         "name": "1/15/2020"
        },
        {
         "data": [
          {
           "coloraxis": "coloraxis",
           "geo": "geo",
           "hovertemplate": "<b>%{hovertext}</b><br><br>reporting date=1/17/2020<br>country=%{location}<br>case_in_country=%{z}<extra></extra>",
           "hovertext": [
            "Thailand"
           ],
           "locationmode": "country names",
           "locations": [
            "Thailand"
           ],
           "name": "",
           "type": "choropleth",
           "z": [
            2
           ]
          }
         ],
         "name": "1/17/2020"
        },
        {
         "data": [
          {
           "coloraxis": "coloraxis",
           "geo": "geo",
           "hovertemplate": "<b>%{hovertext}</b><br><br>reporting date=1/20/2020<br>country=%{location}<br>case_in_country=%{z}<extra></extra>",
           "hovertext": [
            "South Korea"
           ],
           "locationmode": "country names",
           "locations": [
            "South Korea"
           ],
           "name": "",
           "type": "choropleth",
           "z": [
            1
           ]
          }
         ],
         "name": "1/20/2020"
        },
        {
         "data": [
          {
           "coloraxis": "coloraxis",
           "geo": "geo",
           "hovertemplate": "<b>%{hovertext}</b><br><br>reporting date=1/21/2020<br>country=%{location}<br>case_in_country=%{z}<extra></extra>",
           "hovertext": [
            "Taiwan",
            "USA"
           ],
           "locationmode": "country names",
           "locations": [
            "Taiwan",
            "USA"
           ],
           "name": "",
           "type": "choropleth",
           "z": [
            1,
            1
           ]
          }
         ],
         "name": "1/21/2020"
        },
        {
         "data": [
          {
           "coloraxis": "coloraxis",
           "geo": "geo",
           "hovertemplate": "<b>%{hovertext}</b><br><br>reporting date=1/22/2020<br>country=%{location}<br>case_in_country=%{z}<extra></extra>",
           "hovertext": [
            "Hong Kong",
            "Thailand"
           ],
           "locationmode": "country names",
           "locations": [
            "Hong Kong",
            "Thailand"
           ],
           "name": "",
           "type": "choropleth",
           "z": [
            3,
            12
           ]
          }
         ],
         "name": "1/22/2020"
        },
        {
         "data": [
          {
           "coloraxis": "coloraxis",
           "geo": "geo",
           "hovertemplate": "<b>%{hovertext}</b><br><br>reporting date=1/23/2020<br>country=%{location}<br>case_in_country=%{z}<extra></extra>",
           "hovertext": [
            "Vietnam"
           ],
           "locationmode": "country names",
           "locations": [
            "Vietnam"
           ],
           "name": "",
           "type": "choropleth",
           "z": [
            3
           ]
          }
         ],
         "name": "1/23/2020"
        },
        {
         "data": [
          {
           "coloraxis": "coloraxis",
           "geo": "geo",
           "hovertemplate": "<b>%{hovertext}</b><br><br>reporting date=1/24/2020<br>country=%{location}<br>case_in_country=%{z}<extra></extra>",
           "hovertext": [
            "Hong Kong",
            "Japan",
            "Malaysia",
            "Singapore",
            "South Korea",
            "Taiwan",
            "Thailand",
            "USA"
           ],
           "locationmode": "country names",
           "locations": [
            "Hong Kong",
            "Japan",
            "Malaysia",
            "Singapore",
            "South Korea",
            "Taiwan",
            "Thailand",
            "USA"
           ],
           "name": "",
           "type": "choropleth",
           "z": [
            12,
            2,
            1,
            6,
            2,
            5,
            6,
            2
           ]
          }
         ],
         "name": "1/24/2020"
        },
        {
         "data": [
          {
           "coloraxis": "coloraxis",
           "geo": "geo",
           "hovertemplate": "<b>%{hovertext}</b><br><br>reporting date=1/25/2020<br>country=%{location}<br>case_in_country=%{z}<extra></extra>",
           "hovertext": [
            "Australia",
            "France",
            "Japan",
            "Malaysia",
            "Nepal",
            "South Korea"
           ],
           "locationmode": "country names",
           "locations": [
            "Australia",
            "France",
            "Japan",
            "Malaysia",
            "Nepal",
            "South Korea"
           ],
           "name": "",
           "type": "choropleth",
           "z": [
            10,
            6,
            3,
            9,
            1,
            3
           ]
          }
         ],
         "name": "1/25/2020"
        },
        {
         "data": [
          {
           "coloraxis": "coloraxis",
           "geo": "geo",
           "hovertemplate": "<b>%{hovertext}</b><br><br>reporting date=1/26/2020<br>country=%{location}<br>case_in_country=%{z}<extra></extra>",
           "hovertext": [
            "Australia",
            "Canada",
            "Japan",
            "Singapore",
            "Thailand",
            "USA"
           ],
           "locationmode": "country names",
           "locations": [
            "Australia",
            "Canada",
            "Japan",
            "Singapore",
            "Thailand",
            "USA"
           ],
           "name": "",
           "type": "choropleth",
           "z": [
            5,
            1,
            4,
            4,
            15,
            12
           ]
          }
         ],
         "name": "1/26/2020"
        },
        {
         "data": [
          {
           "coloraxis": "coloraxis",
           "geo": "geo",
           "hovertemplate": "<b>%{hovertext}</b><br><br>reporting date=1/27/2020<br>country=%{location}<br>case_in_country=%{z}<extra></extra>",
           "hovertext": [
            "Cambodia",
            "Canada",
            "Hong Kong",
            "Singapore",
            "South Korea",
            "Taiwan"
           ],
           "locationmode": "country names",
           "locations": [
            "Cambodia",
            "Canada",
            "Hong Kong",
            "Singapore",
            "South Korea",
            "Taiwan"
           ],
           "name": "",
           "type": "choropleth",
           "z": [
            1,
            2,
            21,
            5,
            4,
            9
           ]
          }
         ],
         "name": "1/27/2020"
        },
        {
         "data": [
          {
           "coloraxis": "coloraxis",
           "geo": "geo",
           "hovertemplate": "<b>%{hovertext}</b><br><br>reporting date=1/28/2020<br>country=%{location}<br>case_in_country=%{z}<extra></extra>",
           "hovertext": [
            "Canada",
            "France",
            "Germany",
            "Japan",
            "Singapore",
            "Sri Lanka",
            "Taiwan",
            "Thailand"
           ],
           "locationmode": "country names",
           "locations": [
            "Canada",
            "France",
            "Germany",
            "Japan",
            "Singapore",
            "Sri Lanka",
            "Taiwan",
            "Thailand"
           ],
           "name": "",
           "type": "choropleth",
           "z": [
            3,
            4,
            1,
            18,
            13,
            1,
            21,
            69
           ]
          }
         ],
         "name": "1/28/2020"
        },
        {
         "data": [
          {
           "coloraxis": "coloraxis",
           "geo": "geo",
           "hovertemplate": "<b>%{hovertext}</b><br><br>reporting date=1/29/2020<br>country=%{location}<br>case_in_country=%{z}<extra></extra>",
           "hovertext": [
            "Australia",
            "Finland",
            "France",
            "Germany",
            "Hong Kong",
            "Japan",
            "Malaysia",
            "Singapore",
            "UAE"
           ],
           "locationmode": "country names",
           "locations": [
            "Australia",
            "Finland",
            "France",
            "Germany",
            "Hong Kong",
            "Japan",
            "Malaysia",
            "Singapore",
            "UAE"
           ],
           "name": "",
           "type": "choropleth",
           "z": [
            13,
            1,
            5,
            9,
            19,
            8,
            18,
            27,
            10
           ]
          }
         ],
         "name": "1/29/2020"
        },
        {
         "data": [
          {
           "coloraxis": "coloraxis",
           "geo": "geo",
           "hovertemplate": "<b>%{hovertext}</b><br><br>reporting date=1/30/2020<br>country=%{location}<br>case_in_country=%{z}<extra></extra>",
           "hovertext": [
            "Australia",
            "France",
            "Germany",
            "Hong Kong",
            "India",
            "Japan",
            "Malaysia",
            "Singapore",
            "South Korea",
            "Taiwan",
            "Thailand",
            "USA",
            "Vietnam"
           ],
           "locationmode": "country names",
           "locations": [
            "Australia",
            "France",
            "Germany",
            "Hong Kong",
            "India",
            "Japan",
            "Malaysia",
            "Singapore",
            "South Korea",
            "Taiwan",
            "Thailand",
            "USA",
            "Vietnam"
           ],
           "name": "",
           "type": "choropleth",
           "z": [
            8,
            6,
            5,
            23,
            1,
            42,
            8,
            36,
            20,
            9,
            15,
            6,
            12
           ]
          }
         ],
         "name": "1/30/2020"
        },
        {
         "data": [
          {
           "coloraxis": "coloraxis",
           "geo": "geo",
           "hovertemplate": "<b>%{hovertext}</b><br><br>reporting date=1/31/2020<br>country=%{location}<br>case_in_country=%{z}<extra></extra>",
           "hovertext": [
            "Australia",
            "Germany",
            "Hong Kong",
            "Italy",
            "Japan",
            "Russia",
            "Singapore",
            "South Korea",
            "Spain",
            "Sweden",
            "Taiwan",
            "Thailand",
            "UK",
            "USA"
           ],
           "locationmode": "country names",
           "locations": [
            "Australia",
            "Germany",
            "Hong Kong",
            "Italy",
            "Japan",
            "Russia",
            "Singapore",
            "South Korea",
            "Spain",
            "Sweden",
            "Taiwan",
            "Thailand",
            "UK",
            "USA"
           ],
           "name": "",
           "type": "choropleth",
           "z": [
            9,
            13,
            13,
            3,
            13,
            3,
            45,
            36,
            1,
            1,
            10,
            90,
            3,
            15
           ]
          }
         ],
         "name": "1/31/2020"
        },
        {
         "data": [
          {
           "coloraxis": "coloraxis",
           "geo": "geo",
           "hovertemplate": "<b>%{hovertext}</b><br><br>reporting date=2/13/2020<br>country=%{location}<br>case_in_country=%{z}<extra></extra>",
           "hovertext": [
            "Hong Kong",
            "Japan",
            "Malaysia",
            "Singapore",
            "USA",
            "Vietnam"
           ],
           "locationmode": "country names",
           "locations": [
            "Hong Kong",
            "Japan",
            "Malaysia",
            "Singapore",
            "USA",
            "Vietnam"
           ],
           "name": "",
           "type": "choropleth",
           "z": [
            156,
            114,
            19,
            436,
            15,
            16
           ]
          }
         ],
         "name": "2/13/2020"
        },
        {
         "data": [
          {
           "coloraxis": "coloraxis",
           "geo": "geo",
           "hovertemplate": "<b>%{hovertext}</b><br><br>reporting date=2/14/2020<br>country=%{location}<br>case_in_country=%{z}<extra></extra>",
           "hovertext": [
            "Canada",
            "Egypt",
            "Hong Kong",
            "Japan",
            "Singapore"
           ],
           "locationmode": "country names",
           "locations": [
            "Canada",
            "Egypt",
            "Hong Kong",
            "Japan",
            "Singapore"
           ],
           "name": "",
           "type": "choropleth",
           "z": [
            8,
            1,
            165,
            238,
            567
           ]
          }
         ],
         "name": "2/14/2020"
        },
        {
         "data": [
          {
           "coloraxis": "coloraxis",
           "geo": "geo",
           "hovertemplate": "<b>%{hovertext}</b><br><br>reporting date=2/15/2020<br>country=%{location}<br>case_in_country=%{z}<extra></extra>",
           "hovertext": [
            "France",
            "Japan",
            "Singapore",
            "Thailand"
           ],
           "locationmode": "country names",
           "locations": [
            "France",
            "Japan",
            "Singapore",
            "Thailand"
           ],
           "name": "",
           "type": "choropleth",
           "z": [
            12,
            243,
            350,
            34
           ]
          }
         ],
         "name": "2/15/2020"
        },
        {
         "data": [
          {
           "coloraxis": "coloraxis",
           "geo": "geo",
           "hovertemplate": "<b>%{hovertext}</b><br><br>reporting date=2/16/2020<br>country=%{location}<br>case_in_country=%{z}<extra></extra>",
           "hovertext": [
            "Hong Kong",
            "Japan",
            "Malaysia",
            "Singapore",
            "South Korea",
            "Taiwan",
            "Thailand",
            "UAE"
           ],
           "locationmode": "country names",
           "locations": [
            "Hong Kong",
            "Japan",
            "Malaysia",
            "Singapore",
            "South Korea",
            "Taiwan",
            "Thailand",
            "UAE"
           ],
           "name": "",
           "type": "choropleth",
           "z": [
            57,
            182,
            63,
            222,
            29,
            39,
            35,
            9
           ]
          }
         ],
         "name": "2/16/2020"
        },
        {
         "data": [
          {
           "coloraxis": "coloraxis",
           "geo": "geo",
           "hovertemplate": "<b>%{hovertext}</b><br><br>reporting date=2/17/2020<br>country=%{location}<br>case_in_country=%{z}<extra></extra>",
           "hovertext": [
            "Hong Kong",
            "Japan",
            "Singapore",
            "South Korea",
            "Taiwan"
           ],
           "locationmode": "country names",
           "locations": [
            "Hong Kong",
            "Japan",
            "Singapore",
            "South Korea",
            "Taiwan"
           ],
           "name": "",
           "type": "choropleth",
           "z": [
            177,
            303,
            153,
            30,
            43
           ]
          }
         ],
         "name": "2/17/2020"
        },
        {
         "data": [
          {
           "coloraxis": "coloraxis",
           "geo": "geo",
           "hovertemplate": "<b>%{hovertext}</b><br><br>reporting date=2/18/2020<br>country=%{location}<br>case_in_country=%{z}<extra></extra>",
           "hovertext": [
            "Hong Kong",
            "Japan",
            "Singapore",
            "South Korea"
           ],
           "locationmode": "country names",
           "locations": [
            "Hong Kong",
            "Japan",
            "Singapore",
            "South Korea"
           ],
           "name": "",
           "type": "choropleth",
           "z": [
            123,
            339,
            318,
            31
           ]
          }
         ],
         "name": "2/18/2020"
        },
        {
         "data": [
          {
           "coloraxis": "coloraxis",
           "geo": "geo",
           "hovertemplate": "<b>%{hovertext}</b><br><br>reporting date=2/19/2020<br>country=%{location}<br>case_in_country=%{z}<extra></extra>",
           "hovertext": [
            "Hong Kong",
            "Iran",
            "Japan",
            "Singapore",
            "South Korea",
            "Taiwan"
           ],
           "locationmode": "country names",
           "locations": [
            "Hong Kong",
            "Iran",
            "Japan",
            "Singapore",
            "South Korea",
            "Taiwan"
           ],
           "name": "",
           "type": "choropleth",
           "z": [
            255,
            3,
            715,
            334,
            830,
            23
           ]
          }
         ],
         "name": "2/19/2020"
        },
        {
         "data": [
          {
           "coloraxis": "coloraxis",
           "geo": "geo",
           "hovertemplate": "<b>%{hovertext}</b><br><br>reporting date=2/20/2020<br>country=%{location}<br>case_in_country=%{z}<extra></extra>",
           "hovertext": [
            "Hong Kong",
            "Iran",
            "Japan",
            "South Korea",
            "Taiwan",
            "USA"
           ],
           "locationmode": "country names",
           "locations": [
            "Hong Kong",
            "Iran",
            "Japan",
            "South Korea",
            "Taiwan",
            "USA"
           ],
           "name": "",
           "type": "choropleth",
           "z": [
            270,
            12,
            675,
            4355,
            24,
            16
           ]
          }
         ],
         "name": "2/20/2020"
        },
        {
         "data": [
          {
           "coloraxis": "coloraxis",
           "geo": "geo",
           "hovertemplate": "<b>%{hovertext}</b><br><br>reporting date=2/21/2020<br>country=%{location}<br>case_in_country=%{z}<extra></extra>",
           "hovertext": [
            "Canada",
            "Iran",
            "Israel",
            "Japan",
            "Lebanon",
            "Singapore",
            "South Korea",
            "Taiwan",
            "UAE",
            "USA"
           ],
           "locationmode": "country names",
           "locations": [
            "Canada",
            "Iran",
            "Israel",
            "Japan",
            "Lebanon",
            "Singapore",
            "South Korea",
            "Taiwan",
            "UAE",
            "USA"
           ],
           "name": "",
           "type": "choropleth",
           "z": [
            9,
            156,
            1,
            1026,
            1,
            86,
            161,
            51,
            21,
            17
           ]
          }
         ],
         "name": "2/21/2020"
        },
        {
         "data": [
          {
           "coloraxis": "coloraxis",
           "geo": "geo",
           "hovertemplate": "<b>%{hovertext}</b><br><br>reporting date=2/22/2020<br>country=%{location}<br>case_in_country=%{z}<extra></extra>",
           "hovertext": [
            "Hong Kong",
            "Japan",
            "Singapore",
            "South Korea",
            "UAE"
           ],
           "locationmode": "country names",
           "locations": [
            "Hong Kong",
            "Japan",
            "Singapore",
            "South Korea",
            "UAE"
           ],
           "name": "",
           "type": "choropleth",
           "z": [
            70,
            2255,
            264,
            949,
            25
           ]
          }
         ],
         "name": "2/22/2020"
        },
        {
         "data": [
          {
           "coloraxis": "coloraxis",
           "geo": "geo",
           "hovertemplate": "<b>%{hovertext}</b><br><br>reporting date=2/23/2020<br>country=%{location}<br>case_in_country=%{z}<extra></extra>",
           "hovertext": [
            "Hong Kong",
            "Japan",
            "South Korea",
            "Taiwan",
            "UK"
           ],
           "locationmode": "country names",
           "locations": [
            "Hong Kong",
            "Japan",
            "South Korea",
            "Taiwan",
            "UK"
           ],
           "name": "",
           "type": "choropleth",
           "z": [
            290,
            1687,
            1318,
            55,
            46
           ]
          }
         ],
         "name": "2/23/2020"
        },
        {
         "data": [
          {
           "coloraxis": "coloraxis",
           "geo": "geo",
           "hovertemplate": "<b>%{hovertext}</b><br><br>reporting date=2/24/2020<br>country=%{location}<br>case_in_country=%{z}<extra></extra>",
           "hovertext": [
            "Afghanistan",
            "Bahrain",
            "Canada",
            "Hong Kong",
            "Japan",
            "Kuwait",
            "Singapore",
            "Spain",
            "Taiwan"
           ],
           "locationmode": "country names",
           "locations": [
            "Afghanistan",
            "Bahrain",
            "Canada",
            "Hong Kong",
            "Japan",
            "Kuwait",
            "Singapore",
            "Spain",
            "Taiwan"
           ],
           "name": "",
           "type": "choropleth",
           "z": [
            1,
            3,
            21,
            546,
            1602,
            15,
            90,
            3,
            59
           ]
          }
         ],
         "name": "2/24/2020"
        },
        {
         "data": [
          {
           "coloraxis": "coloraxis",
           "geo": "geo",
           "hovertemplate": "<b>%{hovertext}</b><br><br>reporting date=2/25/2020<br>country=%{location}<br>case_in_country=%{z}<extra></extra>",
           "hovertext": [
            "Austria",
            "Bahrain",
            "Croatia",
            "France",
            "Hong Kong",
            "Japan",
            "Kuwait",
            "Singapore",
            "South Korea",
            "Spain",
            "Switzerland",
            "Taiwan",
            "Thailand"
           ],
           "locationmode": "country names",
           "locations": [
            "Austria",
            "Bahrain",
            "Croatia",
            "France",
            "Hong Kong",
            "Japan",
            "Kuwait",
            "Singapore",
            "South Korea",
            "Spain",
            "Switzerland",
            "Taiwan",
            "Thailand"
           ],
           "name": "",
           "type": "choropleth",
           "z": [
            3,
            150,
            1,
            27,
            334,
            1148,
            30,
            91,
            925,
            22,
            1,
            31,
            73
           ]
          }
         ],
         "name": "2/25/2020"
        },
        {
         "data": [
          {
           "coloraxis": "coloraxis",
           "geo": "geo",
           "hovertemplate": "<b>%{hovertext}</b><br><br>reporting date=2/26/2020<br>country=%{location}<br>case_in_country=%{z}<extra></extra>",
           "hovertext": [
            "Algeria",
            "France",
            "Germany",
            "Hong Kong",
            "Japan",
            "Singapore",
            "South Korea",
            "Spain",
            "Taiwan",
            "Thailand"
           ],
           "locationmode": "country names",
           "locations": [
            "Algeria",
            "France",
            "Germany",
            "Hong Kong",
            "Japan",
            "Singapore",
            "South Korea",
            "Spain",
            "Taiwan",
            "Thailand"
           ],
           "name": "",
           "type": "choropleth",
           "z": [
            1,
            66,
            215,
            531,
            3150,
            185,
            1443,
            63,
            32,
            117
           ]
          }
         ],
         "name": "2/26/2020"
        },
        {
         "data": [
          {
           "coloraxis": "coloraxis",
           "geo": "geo",
           "hovertemplate": "<b>%{hovertext}</b><br><br>reporting date=2/27/2020<br>country=%{location}<br>case_in_country=%{z}<extra></extra>",
           "hovertext": [
            "Canada",
            "France",
            "Germany",
            "Hong Kong",
            "Japan",
            "Malaysia",
            "Spain",
            "UAE",
            "UK",
            "USA"
           ],
           "locationmode": "country names",
           "locations": [
            "Canada",
            "France",
            "Germany",
            "Hong Kong",
            "Japan",
            "Malaysia",
            "Spain",
            "UAE",
            "UK",
            "USA"
           ],
           "name": "",
           "type": "choropleth",
           "z": [
            12,
            570,
            825,
            185,
            4117,
            23,
            234,
            99,
            45,
            18
           ]
          }
         ],
         "name": "2/27/2020"
        },
        {
         "data": [
          {
           "coloraxis": "coloraxis",
           "geo": "geo",
           "hovertemplate": "<b>%{hovertext}</b><br><br>reporting date=2/28/2020<br>country=%{location}<br>case_in_country=%{z}<extra></extra>",
           "hovertext": [
            "France",
            "Germany",
            "Spain",
            "Taiwan",
            "Thailand",
            "UAE",
            "UK"
           ],
           "locationmode": "country names",
           "locations": [
            "France",
            "Germany",
            "Spain",
            "Taiwan",
            "Thailand",
            "UAE",
            "UK"
           ],
           "name": "",
           "type": "choropleth",
           "z": [
            39,
            309,
            270,
            67,
            41,
            41,
            74
           ]
          }
         ],
         "name": "2/28/2020"
        }
       ],
       "layout": {
        "coloraxis": {
         "colorbar": {
          "title": {
           "text": "case_in_country"
          }
         },
         "colorscale": [
          [
           0,
           "#0d0887"
          ],
          [
           0.1111111111111111,
           "#46039f"
          ],
          [
           0.2222222222222222,
           "#7201a8"
          ],
          [
           0.3333333333333333,
           "#9c179e"
          ],
          [
           0.4444444444444444,
           "#bd3786"
          ],
          [
           0.5555555555555556,
           "#d8576b"
          ],
          [
           0.6666666666666666,
           "#ed7953"
          ],
          [
           0.7777777777777778,
           "#fb9f3a"
          ],
          [
           0.8888888888888888,
           "#fdca26"
          ],
          [
           1,
           "#f0f921"
          ]
         ]
        },
        "geo": {
         "center": {},
         "domain": {
          "x": [
           0,
           1
          ],
          "y": [
           0,
           1
          ]
         },
         "showcoastlines": false,
         "showframe": false
        },
        "legend": {
         "tracegroupgap": 0
        },
        "margin": {
         "t": 60
        },
        "sliders": [
         {
          "active": 0,
          "currentvalue": {
           "prefix": "reporting date="
          },
          "len": 0.9,
          "pad": {
           "b": 10,
           "t": 60
          },
          "steps": [
           {
            "args": [
             [
              "02/01/20"
             ],
             {
              "frame": {
               "duration": 0,
               "redraw": true
              },
              "fromcurrent": true,
              "mode": "immediate",
              "transition": {
               "duration": 0,
               "easing": "linear"
              }
             }
            ],
            "label": "02/01/20",
            "method": "animate"
           },
           {
            "args": [
             [
              "02/02/20"
             ],
             {
              "frame": {
               "duration": 0,
               "redraw": true
              },
              "fromcurrent": true,
              "mode": "immediate",
              "transition": {
               "duration": 0,
               "easing": "linear"
              }
             }
            ],
            "label": "02/02/20",
            "method": "animate"
           },
           {
            "args": [
             [
              "02/03/20"
             ],
             {
              "frame": {
               "duration": 0,
               "redraw": true
              },
              "fromcurrent": true,
              "mode": "immediate",
              "transition": {
               "duration": 0,
               "easing": "linear"
              }
             }
            ],
            "label": "02/03/20",
            "method": "animate"
           },
           {
            "args": [
             [
              "02/04/20"
             ],
             {
              "frame": {
               "duration": 0,
               "redraw": true
              },
              "fromcurrent": true,
              "mode": "immediate",
              "transition": {
               "duration": 0,
               "easing": "linear"
              }
             }
            ],
            "label": "02/04/20",
            "method": "animate"
           },
           {
            "args": [
             [
              "02/05/20"
             ],
             {
              "frame": {
               "duration": 0,
               "redraw": true
              },
              "fromcurrent": true,
              "mode": "immediate",
              "transition": {
               "duration": 0,
               "easing": "linear"
              }
             }
            ],
            "label": "02/05/20",
            "method": "animate"
           },
           {
            "args": [
             [
              "02/06/20"
             ],
             {
              "frame": {
               "duration": 0,
               "redraw": true
              },
              "fromcurrent": true,
              "mode": "immediate",
              "transition": {
               "duration": 0,
               "easing": "linear"
              }
             }
            ],
            "label": "02/06/20",
            "method": "animate"
           },
           {
            "args": [
             [
              "02/07/20"
             ],
             {
              "frame": {
               "duration": 0,
               "redraw": true
              },
              "fromcurrent": true,
              "mode": "immediate",
              "transition": {
               "duration": 0,
               "easing": "linear"
              }
             }
            ],
            "label": "02/07/20",
            "method": "animate"
           },
           {
            "args": [
             [
              "02/08/20"
             ],
             {
              "frame": {
               "duration": 0,
               "redraw": true
              },
              "fromcurrent": true,
              "mode": "immediate",
              "transition": {
               "duration": 0,
               "easing": "linear"
              }
             }
            ],
            "label": "02/08/20",
            "method": "animate"
           },
           {
            "args": [
             [
              "02/09/20"
             ],
             {
              "frame": {
               "duration": 0,
               "redraw": true
              },
              "fromcurrent": true,
              "mode": "immediate",
              "transition": {
               "duration": 0,
               "easing": "linear"
              }
             }
            ],
            "label": "02/09/20",
            "method": "animate"
           },
           {
            "args": [
             [
              "02/10/20"
             ],
             {
              "frame": {
               "duration": 0,
               "redraw": true
              },
              "fromcurrent": true,
              "mode": "immediate",
              "transition": {
               "duration": 0,
               "easing": "linear"
              }
             }
            ],
            "label": "02/10/20",
            "method": "animate"
           },
           {
            "args": [
             [
              "02/11/20"
             ],
             {
              "frame": {
               "duration": 0,
               "redraw": true
              },
              "fromcurrent": true,
              "mode": "immediate",
              "transition": {
               "duration": 0,
               "easing": "linear"
              }
             }
            ],
            "label": "02/11/20",
            "method": "animate"
           },
           {
            "args": [
             [
              "02/12/20"
             ],
             {
              "frame": {
               "duration": 0,
               "redraw": true
              },
              "fromcurrent": true,
              "mode": "immediate",
              "transition": {
               "duration": 0,
               "easing": "linear"
              }
             }
            ],
            "label": "02/12/20",
            "method": "animate"
           },
           {
            "args": [
             [
              "1/13/2020"
             ],
             {
              "frame": {
               "duration": 0,
               "redraw": true
              },
              "fromcurrent": true,
              "mode": "immediate",
              "transition": {
               "duration": 0,
               "easing": "linear"
              }
             }
            ],
            "label": "1/13/2020",
            "method": "animate"
           },
           {
            "args": [
             [
              "1/15/2020"
             ],
             {
              "frame": {
               "duration": 0,
               "redraw": true
              },
              "fromcurrent": true,
              "mode": "immediate",
              "transition": {
               "duration": 0,
               "easing": "linear"
              }
             }
            ],
            "label": "1/15/2020",
            "method": "animate"
           },
           {
            "args": [
             [
              "1/17/2020"
             ],
             {
              "frame": {
               "duration": 0,
               "redraw": true
              },
              "fromcurrent": true,
              "mode": "immediate",
              "transition": {
               "duration": 0,
               "easing": "linear"
              }
             }
            ],
            "label": "1/17/2020",
            "method": "animate"
           },
           {
            "args": [
             [
              "1/20/2020"
             ],
             {
              "frame": {
               "duration": 0,
               "redraw": true
              },
              "fromcurrent": true,
              "mode": "immediate",
              "transition": {
               "duration": 0,
               "easing": "linear"
              }
             }
            ],
            "label": "1/20/2020",
            "method": "animate"
           },
           {
            "args": [
             [
              "1/21/2020"
             ],
             {
              "frame": {
               "duration": 0,
               "redraw": true
              },
              "fromcurrent": true,
              "mode": "immediate",
              "transition": {
               "duration": 0,
               "easing": "linear"
              }
             }
            ],
            "label": "1/21/2020",
            "method": "animate"
           },
           {
            "args": [
             [
              "1/22/2020"
             ],
             {
              "frame": {
               "duration": 0,
               "redraw": true
              },
              "fromcurrent": true,
              "mode": "immediate",
              "transition": {
               "duration": 0,
               "easing": "linear"
              }
             }
            ],
            "label": "1/22/2020",
            "method": "animate"
           },
           {
            "args": [
             [
              "1/23/2020"
             ],
             {
              "frame": {
               "duration": 0,
               "redraw": true
              },
              "fromcurrent": true,
              "mode": "immediate",
              "transition": {
               "duration": 0,
               "easing": "linear"
              }
             }
            ],
            "label": "1/23/2020",
            "method": "animate"
           },
           {
            "args": [
             [
              "1/24/2020"
             ],
             {
              "frame": {
               "duration": 0,
               "redraw": true
              },
              "fromcurrent": true,
              "mode": "immediate",
              "transition": {
               "duration": 0,
               "easing": "linear"
              }
             }
            ],
            "label": "1/24/2020",
            "method": "animate"
           },
           {
            "args": [
             [
              "1/25/2020"
             ],
             {
              "frame": {
               "duration": 0,
               "redraw": true
              },
              "fromcurrent": true,
              "mode": "immediate",
              "transition": {
               "duration": 0,
               "easing": "linear"
              }
             }
            ],
            "label": "1/25/2020",
            "method": "animate"
           },
           {
            "args": [
             [
              "1/26/2020"
             ],
             {
              "frame": {
               "duration": 0,
               "redraw": true
              },
              "fromcurrent": true,
              "mode": "immediate",
              "transition": {
               "duration": 0,
               "easing": "linear"
              }
             }
            ],
            "label": "1/26/2020",
            "method": "animate"
           },
           {
            "args": [
             [
              "1/27/2020"
             ],
             {
              "frame": {
               "duration": 0,
               "redraw": true
              },
              "fromcurrent": true,
              "mode": "immediate",
              "transition": {
               "duration": 0,
               "easing": "linear"
              }
             }
            ],
            "label": "1/27/2020",
            "method": "animate"
           },
           {
            "args": [
             [
              "1/28/2020"
             ],
             {
              "frame": {
               "duration": 0,
               "redraw": true
              },
              "fromcurrent": true,
              "mode": "immediate",
              "transition": {
               "duration": 0,
               "easing": "linear"
              }
             }
            ],
            "label": "1/28/2020",
            "method": "animate"
           },
           {
            "args": [
             [
              "1/29/2020"
             ],
             {
              "frame": {
               "duration": 0,
               "redraw": true
              },
              "fromcurrent": true,
              "mode": "immediate",
              "transition": {
               "duration": 0,
               "easing": "linear"
              }
             }
            ],
            "label": "1/29/2020",
            "method": "animate"
           },
           {
            "args": [
             [
              "1/30/2020"
             ],
             {
              "frame": {
               "duration": 0,
               "redraw": true
              },
              "fromcurrent": true,
              "mode": "immediate",
              "transition": {
               "duration": 0,
               "easing": "linear"
              }
             }
            ],
            "label": "1/30/2020",
            "method": "animate"
           },
           {
            "args": [
             [
              "1/31/2020"
             ],
             {
              "frame": {
               "duration": 0,
               "redraw": true
              },
              "fromcurrent": true,
              "mode": "immediate",
              "transition": {
               "duration": 0,
               "easing": "linear"
              }
             }
            ],
            "label": "1/31/2020",
            "method": "animate"
           },
           {
            "args": [
             [
              "2/13/2020"
             ],
             {
              "frame": {
               "duration": 0,
               "redraw": true
              },
              "fromcurrent": true,
              "mode": "immediate",
              "transition": {
               "duration": 0,
               "easing": "linear"
              }
             }
            ],
            "label": "2/13/2020",
            "method": "animate"
           },
           {
            "args": [
             [
              "2/14/2020"
             ],
             {
              "frame": {
               "duration": 0,
               "redraw": true
              },
              "fromcurrent": true,
              "mode": "immediate",
              "transition": {
               "duration": 0,
               "easing": "linear"
              }
             }
            ],
            "label": "2/14/2020",
            "method": "animate"
           },
           {
            "args": [
             [
              "2/15/2020"
             ],
             {
              "frame": {
               "duration": 0,
               "redraw": true
              },
              "fromcurrent": true,
              "mode": "immediate",
              "transition": {
               "duration": 0,
               "easing": "linear"
              }
             }
            ],
            "label": "2/15/2020",
            "method": "animate"
           },
           {
            "args": [
             [
              "2/16/2020"
             ],
             {
              "frame": {
               "duration": 0,
               "redraw": true
              },
              "fromcurrent": true,
              "mode": "immediate",
              "transition": {
               "duration": 0,
               "easing": "linear"
              }
             }
            ],
            "label": "2/16/2020",
            "method": "animate"
           },
           {
            "args": [
             [
              "2/17/2020"
             ],
             {
              "frame": {
               "duration": 0,
               "redraw": true
              },
              "fromcurrent": true,
              "mode": "immediate",
              "transition": {
               "duration": 0,
               "easing": "linear"
              }
             }
            ],
            "label": "2/17/2020",
            "method": "animate"
           },
           {
            "args": [
             [
              "2/18/2020"
             ],
             {
              "frame": {
               "duration": 0,
               "redraw": true
              },
              "fromcurrent": true,
              "mode": "immediate",
              "transition": {
               "duration": 0,
               "easing": "linear"
              }
             }
            ],
            "label": "2/18/2020",
            "method": "animate"
           },
           {
            "args": [
             [
              "2/19/2020"
             ],
             {
              "frame": {
               "duration": 0,
               "redraw": true
              },
              "fromcurrent": true,
              "mode": "immediate",
              "transition": {
               "duration": 0,
               "easing": "linear"
              }
             }
            ],
            "label": "2/19/2020",
            "method": "animate"
           },
           {
            "args": [
             [
              "2/20/2020"
             ],
             {
              "frame": {
               "duration": 0,
               "redraw": true
              },
              "fromcurrent": true,
              "mode": "immediate",
              "transition": {
               "duration": 0,
               "easing": "linear"
              }
             }
            ],
            "label": "2/20/2020",
            "method": "animate"
           },
           {
            "args": [
             [
              "2/21/2020"
             ],
             {
              "frame": {
               "duration": 0,
               "redraw": true
              },
              "fromcurrent": true,
              "mode": "immediate",
              "transition": {
               "duration": 0,
               "easing": "linear"
              }
             }
            ],
            "label": "2/21/2020",
            "method": "animate"
           },
           {
            "args": [
             [
              "2/22/2020"
             ],
             {
              "frame": {
               "duration": 0,
               "redraw": true
              },
              "fromcurrent": true,
              "mode": "immediate",
              "transition": {
               "duration": 0,
               "easing": "linear"
              }
             }
            ],
            "label": "2/22/2020",
            "method": "animate"
           },
           {
            "args": [
             [
              "2/23/2020"
             ],
             {
              "frame": {
               "duration": 0,
               "redraw": true
              },
              "fromcurrent": true,
              "mode": "immediate",
              "transition": {
               "duration": 0,
               "easing": "linear"
              }
             }
            ],
            "label": "2/23/2020",
            "method": "animate"
           },
           {
            "args": [
             [
              "2/24/2020"
             ],
             {
              "frame": {
               "duration": 0,
               "redraw": true
              },
              "fromcurrent": true,
              "mode": "immediate",
              "transition": {
               "duration": 0,
               "easing": "linear"
              }
             }
            ],
            "label": "2/24/2020",
            "method": "animate"
           },
           {
            "args": [
             [
              "2/25/2020"
             ],
             {
              "frame": {
               "duration": 0,
               "redraw": true
              },
              "fromcurrent": true,
              "mode": "immediate",
              "transition": {
               "duration": 0,
               "easing": "linear"
              }
             }
            ],
            "label": "2/25/2020",
            "method": "animate"
           },
           {
            "args": [
             [
              "2/26/2020"
             ],
             {
              "frame": {
               "duration": 0,
               "redraw": true
              },
              "fromcurrent": true,
              "mode": "immediate",
              "transition": {
               "duration": 0,
               "easing": "linear"
              }
             }
            ],
            "label": "2/26/2020",
            "method": "animate"
           },
           {
            "args": [
             [
              "2/27/2020"
             ],
             {
              "frame": {
               "duration": 0,
               "redraw": true
              },
              "fromcurrent": true,
              "mode": "immediate",
              "transition": {
               "duration": 0,
               "easing": "linear"
              }
             }
            ],
            "label": "2/27/2020",
            "method": "animate"
           },
           {
            "args": [
             [
              "2/28/2020"
             ],
             {
              "frame": {
               "duration": 0,
               "redraw": true
              },
              "fromcurrent": true,
              "mode": "immediate",
              "transition": {
               "duration": 0,
               "easing": "linear"
              }
             }
            ],
            "label": "2/28/2020",
            "method": "animate"
           }
          ],
          "x": 0.1,
          "xanchor": "left",
          "y": 0,
          "yanchor": "top"
         }
        ],
        "template": {
         "data": {
          "bar": [
           {
            "error_x": {
             "color": "#2a3f5f"
            },
            "error_y": {
             "color": "#2a3f5f"
            },
            "marker": {
             "line": {
              "color": "#E5ECF6",
              "width": 0.5
             }
            },
            "type": "bar"
           }
          ],
          "barpolar": [
           {
            "marker": {
             "line": {
              "color": "#E5ECF6",
              "width": 0.5
             }
            },
            "type": "barpolar"
           }
          ],
          "carpet": [
           {
            "aaxis": {
             "endlinecolor": "#2a3f5f",
             "gridcolor": "white",
             "linecolor": "white",
             "minorgridcolor": "white",
             "startlinecolor": "#2a3f5f"
            },
            "baxis": {
             "endlinecolor": "#2a3f5f",
             "gridcolor": "white",
             "linecolor": "white",
             "minorgridcolor": "white",
             "startlinecolor": "#2a3f5f"
            },
            "type": "carpet"
           }
          ],
          "choropleth": [
           {
            "colorbar": {
             "outlinewidth": 0,
             "ticks": ""
            },
            "type": "choropleth"
           }
          ],
          "contour": [
           {
            "colorbar": {
             "outlinewidth": 0,
             "ticks": ""
            },
            "colorscale": [
             [
              0,
              "#0d0887"
             ],
             [
              0.1111111111111111,
              "#46039f"
             ],
             [
              0.2222222222222222,
              "#7201a8"
             ],
             [
              0.3333333333333333,
              "#9c179e"
             ],
             [
              0.4444444444444444,
              "#bd3786"
             ],
             [
              0.5555555555555556,
              "#d8576b"
             ],
             [
              0.6666666666666666,
              "#ed7953"
             ],
             [
              0.7777777777777778,
              "#fb9f3a"
             ],
             [
              0.8888888888888888,
              "#fdca26"
             ],
             [
              1,
              "#f0f921"
             ]
            ],
            "type": "contour"
           }
          ],
          "contourcarpet": [
           {
            "colorbar": {
             "outlinewidth": 0,
             "ticks": ""
            },
            "type": "contourcarpet"
           }
          ],
          "heatmap": [
           {
            "colorbar": {
             "outlinewidth": 0,
             "ticks": ""
            },
            "colorscale": [
             [
              0,
              "#0d0887"
             ],
             [
              0.1111111111111111,
              "#46039f"
             ],
             [
              0.2222222222222222,
              "#7201a8"
             ],
             [
              0.3333333333333333,
              "#9c179e"
             ],
             [
              0.4444444444444444,
              "#bd3786"
             ],
             [
              0.5555555555555556,
              "#d8576b"
             ],
             [
              0.6666666666666666,
              "#ed7953"
             ],
             [
              0.7777777777777778,
              "#fb9f3a"
             ],
             [
              0.8888888888888888,
              "#fdca26"
             ],
             [
              1,
              "#f0f921"
             ]
            ],
            "type": "heatmap"
           }
          ],
          "heatmapgl": [
           {
            "colorbar": {
             "outlinewidth": 0,
             "ticks": ""
            },
            "colorscale": [
             [
              0,
              "#0d0887"
             ],
             [
              0.1111111111111111,
              "#46039f"
             ],
             [
              0.2222222222222222,
              "#7201a8"
             ],
             [
              0.3333333333333333,
              "#9c179e"
             ],
             [
              0.4444444444444444,
              "#bd3786"
             ],
             [
              0.5555555555555556,
              "#d8576b"
             ],
             [
              0.6666666666666666,
              "#ed7953"
             ],
             [
              0.7777777777777778,
              "#fb9f3a"
             ],
             [
              0.8888888888888888,
              "#fdca26"
             ],
             [
              1,
              "#f0f921"
             ]
            ],
            "type": "heatmapgl"
           }
          ],
          "histogram": [
           {
            "marker": {
             "colorbar": {
              "outlinewidth": 0,
              "ticks": ""
             }
            },
            "type": "histogram"
           }
          ],
          "histogram2d": [
           {
            "colorbar": {
             "outlinewidth": 0,
             "ticks": ""
            },
            "colorscale": [
             [
              0,
              "#0d0887"
             ],
             [
              0.1111111111111111,
              "#46039f"
             ],
             [
              0.2222222222222222,
              "#7201a8"
             ],
             [
              0.3333333333333333,
              "#9c179e"
             ],
             [
              0.4444444444444444,
              "#bd3786"
             ],
             [
              0.5555555555555556,
              "#d8576b"
             ],
             [
              0.6666666666666666,
              "#ed7953"
             ],
             [
              0.7777777777777778,
              "#fb9f3a"
             ],
             [
              0.8888888888888888,
              "#fdca26"
             ],
             [
              1,
              "#f0f921"
             ]
            ],
            "type": "histogram2d"
           }
          ],
          "histogram2dcontour": [
           {
            "colorbar": {
             "outlinewidth": 0,
             "ticks": ""
            },
            "colorscale": [
             [
              0,
              "#0d0887"
             ],
             [
              0.1111111111111111,
              "#46039f"
             ],
             [
              0.2222222222222222,
              "#7201a8"
             ],
             [
              0.3333333333333333,
              "#9c179e"
             ],
             [
              0.4444444444444444,
              "#bd3786"
             ],
             [
              0.5555555555555556,
              "#d8576b"
             ],
             [
              0.6666666666666666,
              "#ed7953"
             ],
             [
              0.7777777777777778,
              "#fb9f3a"
             ],
             [
              0.8888888888888888,
              "#fdca26"
             ],
             [
              1,
              "#f0f921"
             ]
            ],
            "type": "histogram2dcontour"
           }
          ],
          "mesh3d": [
           {
            "colorbar": {
             "outlinewidth": 0,
             "ticks": ""
            },
            "type": "mesh3d"
           }
          ],
          "parcoords": [
           {
            "line": {
             "colorbar": {
              "outlinewidth": 0,
              "ticks": ""
             }
            },
            "type": "parcoords"
           }
          ],
          "pie": [
           {
            "automargin": true,
            "type": "pie"
           }
          ],
          "scatter": [
           {
            "marker": {
             "colorbar": {
              "outlinewidth": 0,
              "ticks": ""
             }
            },
            "type": "scatter"
           }
          ],
          "scatter3d": [
           {
            "line": {
             "colorbar": {
              "outlinewidth": 0,
              "ticks": ""
             }
            },
            "marker": {
             "colorbar": {
              "outlinewidth": 0,
              "ticks": ""
             }
            },
            "type": "scatter3d"
           }
          ],
          "scattercarpet": [
           {
            "marker": {
             "colorbar": {
              "outlinewidth": 0,
              "ticks": ""
             }
            },
            "type": "scattercarpet"
           }
          ],
          "scattergeo": [
           {
            "marker": {
             "colorbar": {
              "outlinewidth": 0,
              "ticks": ""
             }
            },
            "type": "scattergeo"
           }
          ],
          "scattergl": [
           {
            "marker": {
             "colorbar": {
              "outlinewidth": 0,
              "ticks": ""
             }
            },
            "type": "scattergl"
           }
          ],
          "scattermapbox": [
           {
            "marker": {
             "colorbar": {
              "outlinewidth": 0,
              "ticks": ""
             }
            },
            "type": "scattermapbox"
           }
          ],
          "scatterpolar": [
           {
            "marker": {
             "colorbar": {
              "outlinewidth": 0,
              "ticks": ""
             }
            },
            "type": "scatterpolar"
           }
          ],
          "scatterpolargl": [
           {
            "marker": {
             "colorbar": {
              "outlinewidth": 0,
              "ticks": ""
             }
            },
            "type": "scatterpolargl"
           }
          ],
          "scatterternary": [
           {
            "marker": {
             "colorbar": {
              "outlinewidth": 0,
              "ticks": ""
             }
            },
            "type": "scatterternary"
           }
          ],
          "surface": [
           {
            "colorbar": {
             "outlinewidth": 0,
             "ticks": ""
            },
            "colorscale": [
             [
              0,
              "#0d0887"
             ],
             [
              0.1111111111111111,
              "#46039f"
             ],
             [
              0.2222222222222222,
              "#7201a8"
             ],
             [
              0.3333333333333333,
              "#9c179e"
             ],
             [
              0.4444444444444444,
              "#bd3786"
             ],
             [
              0.5555555555555556,
              "#d8576b"
             ],
             [
              0.6666666666666666,
              "#ed7953"
             ],
             [
              0.7777777777777778,
              "#fb9f3a"
             ],
             [
              0.8888888888888888,
              "#fdca26"
             ],
             [
              1,
              "#f0f921"
             ]
            ],
            "type": "surface"
           }
          ],
          "table": [
           {
            "cells": {
             "fill": {
              "color": "#EBF0F8"
             },
             "line": {
              "color": "white"
             }
            },
            "header": {
             "fill": {
              "color": "#C8D4E3"
             },
             "line": {
              "color": "white"
             }
            },
            "type": "table"
           }
          ]
         },
         "layout": {
          "annotationdefaults": {
           "arrowcolor": "#2a3f5f",
           "arrowhead": 0,
           "arrowwidth": 1
          },
          "coloraxis": {
           "colorbar": {
            "outlinewidth": 0,
            "ticks": ""
           }
          },
          "colorscale": {
           "diverging": [
            [
             0,
             "#8e0152"
            ],
            [
             0.1,
             "#c51b7d"
            ],
            [
             0.2,
             "#de77ae"
            ],
            [
             0.3,
             "#f1b6da"
            ],
            [
             0.4,
             "#fde0ef"
            ],
            [
             0.5,
             "#f7f7f7"
            ],
            [
             0.6,
             "#e6f5d0"
            ],
            [
             0.7,
             "#b8e186"
            ],
            [
             0.8,
             "#7fbc41"
            ],
            [
             0.9,
             "#4d9221"
            ],
            [
             1,
             "#276419"
            ]
           ],
           "sequential": [
            [
             0,
             "#0d0887"
            ],
            [
             0.1111111111111111,
             "#46039f"
            ],
            [
             0.2222222222222222,
             "#7201a8"
            ],
            [
             0.3333333333333333,
             "#9c179e"
            ],
            [
             0.4444444444444444,
             "#bd3786"
            ],
            [
             0.5555555555555556,
             "#d8576b"
            ],
            [
             0.6666666666666666,
             "#ed7953"
            ],
            [
             0.7777777777777778,
             "#fb9f3a"
            ],
            [
             0.8888888888888888,
             "#fdca26"
            ],
            [
             1,
             "#f0f921"
            ]
           ],
           "sequentialminus": [
            [
             0,
             "#0d0887"
            ],
            [
             0.1111111111111111,
             "#46039f"
            ],
            [
             0.2222222222222222,
             "#7201a8"
            ],
            [
             0.3333333333333333,
             "#9c179e"
            ],
            [
             0.4444444444444444,
             "#bd3786"
            ],
            [
             0.5555555555555556,
             "#d8576b"
            ],
            [
             0.6666666666666666,
             "#ed7953"
            ],
            [
             0.7777777777777778,
             "#fb9f3a"
            ],
            [
             0.8888888888888888,
             "#fdca26"
            ],
            [
             1,
             "#f0f921"
            ]
           ]
          },
          "colorway": [
           "#636efa",
           "#EF553B",
           "#00cc96",
           "#ab63fa",
           "#FFA15A",
           "#19d3f3",
           "#FF6692",
           "#B6E880",
           "#FF97FF",
           "#FECB52"
          ],
          "font": {
           "color": "#2a3f5f"
          },
          "geo": {
           "bgcolor": "white",
           "lakecolor": "white",
           "landcolor": "#E5ECF6",
           "showlakes": true,
           "showland": true,
           "subunitcolor": "white"
          },
          "hoverlabel": {
           "align": "left"
          },
          "hovermode": "closest",
          "mapbox": {
           "style": "light"
          },
          "paper_bgcolor": "white",
          "plot_bgcolor": "#E5ECF6",
          "polar": {
           "angularaxis": {
            "gridcolor": "white",
            "linecolor": "white",
            "ticks": ""
           },
           "bgcolor": "#E5ECF6",
           "radialaxis": {
            "gridcolor": "white",
            "linecolor": "white",
            "ticks": ""
           }
          },
          "scene": {
           "xaxis": {
            "backgroundcolor": "#E5ECF6",
            "gridcolor": "white",
            "gridwidth": 2,
            "linecolor": "white",
            "showbackground": true,
            "ticks": "",
            "zerolinecolor": "white"
           },
           "yaxis": {
            "backgroundcolor": "#E5ECF6",
            "gridcolor": "white",
            "gridwidth": 2,
            "linecolor": "white",
            "showbackground": true,
            "ticks": "",
            "zerolinecolor": "white"
           },
           "zaxis": {
            "backgroundcolor": "#E5ECF6",
            "gridcolor": "white",
            "gridwidth": 2,
            "linecolor": "white",
            "showbackground": true,
            "ticks": "",
            "zerolinecolor": "white"
           }
          },
          "shapedefaults": {
           "line": {
            "color": "#2a3f5f"
           }
          },
          "ternary": {
           "aaxis": {
            "gridcolor": "white",
            "linecolor": "white",
            "ticks": ""
           },
           "baxis": {
            "gridcolor": "white",
            "linecolor": "white",
            "ticks": ""
           },
           "bgcolor": "#E5ECF6",
           "caxis": {
            "gridcolor": "white",
            "linecolor": "white",
            "ticks": ""
           }
          },
          "title": {
           "x": 0.05
          },
          "xaxis": {
           "automargin": true,
           "gridcolor": "white",
           "linecolor": "white",
           "ticks": "",
           "title": {
            "standoff": 15
           },
           "zerolinecolor": "white",
           "zerolinewidth": 2
          },
          "yaxis": {
           "automargin": true,
           "gridcolor": "white",
           "linecolor": "white",
           "ticks": "",
           "title": {
            "standoff": 15
           },
           "zerolinecolor": "white",
           "zerolinewidth": 2
          }
         }
        },
        "title": {
         "text": "Spread of COVID-19",
         "x": 0.5
        },
        "updatemenus": [
         {
          "buttons": [
           {
            "args": [
             null,
             {
              "frame": {
               "duration": 500,
               "redraw": true
              },
              "fromcurrent": true,
              "mode": "immediate",
              "transition": {
               "duration": 500,
               "easing": "linear"
              }
             }
            ],
            "label": "&#9654;",
            "method": "animate"
           },
           {
            "args": [
             [
              null
             ],
             {
              "frame": {
               "duration": 0,
               "redraw": true
              },
              "fromcurrent": true,
              "mode": "immediate",
              "transition": {
               "duration": 0,
               "easing": "linear"
              }
             }
            ],
            "label": "&#9724;",
            "method": "animate"
           }
          ],
          "direction": "left",
          "pad": {
           "r": 10,
           "t": 70
          },
          "showactive": false,
          "type": "buttons",
          "x": 0.1,
          "xanchor": "right",
          "y": 0,
          "yanchor": "top"
         }
        ]
       }
      },
      "text/html": [
       "<div>\n",
       "        \n",
       "        \n",
       "            <div id=\"5811b139-8ced-48f5-a765-5a5aafefc2d2\" class=\"plotly-graph-div\" style=\"height:525px; width:100%;\"></div>\n",
       "            <script type=\"text/javascript\">\n",
       "                require([\"plotly\"], function(Plotly) {\n",
       "                    window.PLOTLYENV=window.PLOTLYENV || {};\n",
       "                    \n",
       "                if (document.getElementById(\"5811b139-8ced-48f5-a765-5a5aafefc2d2\")) {\n",
       "                    Plotly.newPlot(\n",
       "                        '5811b139-8ced-48f5-a765-5a5aafefc2d2',\n",
       "                        [{\"coloraxis\": \"coloraxis\", \"geo\": \"geo\", \"hovertemplate\": \"<b>%{hovertext}</b><br><br>reporting date=02/01/20<br>country=%{location}<br>case_in_country=%{z}<extra></extra>\", \"hovertext\": [\"Australia\", \"Canada\", \"Germany\", \"Japan\", \"Singapore\", \"South Korea\", \"UAE\"], \"locationmode\": \"country names\", \"locations\": [\"Australia\", \"Canada\", \"Germany\", \"Japan\", \"Singapore\", \"South Korea\", \"UAE\"], \"name\": \"\", \"type\": \"choropleth\", \"z\": [33.0, 4.0, 8.0, 45.0, 35.0, 12.0, 5.0]}],\n",
       "                        {\"coloraxis\": {\"colorbar\": {\"title\": {\"text\": \"case_in_country\"}}, \"colorscale\": [[0.0, \"#0d0887\"], [0.1111111111111111, \"#46039f\"], [0.2222222222222222, \"#7201a8\"], [0.3333333333333333, \"#9c179e\"], [0.4444444444444444, \"#bd3786\"], [0.5555555555555556, \"#d8576b\"], [0.6666666666666666, \"#ed7953\"], [0.7777777777777778, \"#fb9f3a\"], [0.8888888888888888, \"#fdca26\"], [1.0, \"#f0f921\"]]}, \"geo\": {\"center\": {}, \"domain\": {\"x\": [0.0, 1.0], \"y\": [0.0, 1.0]}, \"showcoastlines\": false, \"showframe\": false}, \"legend\": {\"tracegroupgap\": 0}, \"margin\": {\"t\": 60}, \"sliders\": [{\"active\": 0, \"currentvalue\": {\"prefix\": \"reporting date=\"}, \"len\": 0.9, \"pad\": {\"b\": 10, \"t\": 60}, \"steps\": [{\"args\": [[\"02/01/20\"], {\"frame\": {\"duration\": 0, \"redraw\": true}, \"fromcurrent\": true, \"mode\": \"immediate\", \"transition\": {\"duration\": 0, \"easing\": \"linear\"}}], \"label\": \"02/01/20\", \"method\": \"animate\"}, {\"args\": [[\"02/02/20\"], {\"frame\": {\"duration\": 0, \"redraw\": true}, \"fromcurrent\": true, \"mode\": \"immediate\", \"transition\": {\"duration\": 0, \"easing\": \"linear\"}}], \"label\": \"02/02/20\", \"method\": \"animate\"}, {\"args\": [[\"02/03/20\"], {\"frame\": {\"duration\": 0, \"redraw\": true}, \"fromcurrent\": true, \"mode\": \"immediate\", \"transition\": {\"duration\": 0, \"easing\": \"linear\"}}], \"label\": \"02/03/20\", \"method\": \"animate\"}, {\"args\": [[\"02/04/20\"], {\"frame\": {\"duration\": 0, \"redraw\": true}, \"fromcurrent\": true, \"mode\": \"immediate\", \"transition\": {\"duration\": 0, \"easing\": \"linear\"}}], \"label\": \"02/04/20\", \"method\": \"animate\"}, {\"args\": [[\"02/05/20\"], {\"frame\": {\"duration\": 0, \"redraw\": true}, \"fromcurrent\": true, \"mode\": \"immediate\", \"transition\": {\"duration\": 0, \"easing\": \"linear\"}}], \"label\": \"02/05/20\", \"method\": \"animate\"}, {\"args\": [[\"02/06/20\"], {\"frame\": {\"duration\": 0, \"redraw\": true}, \"fromcurrent\": true, \"mode\": \"immediate\", \"transition\": {\"duration\": 0, \"easing\": \"linear\"}}], \"label\": \"02/06/20\", \"method\": \"animate\"}, {\"args\": [[\"02/07/20\"], {\"frame\": {\"duration\": 0, \"redraw\": true}, \"fromcurrent\": true, \"mode\": \"immediate\", \"transition\": {\"duration\": 0, \"easing\": \"linear\"}}], \"label\": \"02/07/20\", \"method\": \"animate\"}, {\"args\": [[\"02/08/20\"], {\"frame\": {\"duration\": 0, \"redraw\": true}, \"fromcurrent\": true, \"mode\": \"immediate\", \"transition\": {\"duration\": 0, \"easing\": \"linear\"}}], \"label\": \"02/08/20\", \"method\": \"animate\"}, {\"args\": [[\"02/09/20\"], {\"frame\": {\"duration\": 0, \"redraw\": true}, \"fromcurrent\": true, \"mode\": \"immediate\", \"transition\": {\"duration\": 0, \"easing\": \"linear\"}}], \"label\": \"02/09/20\", \"method\": \"animate\"}, {\"args\": [[\"02/10/20\"], {\"frame\": {\"duration\": 0, \"redraw\": true}, \"fromcurrent\": true, \"mode\": \"immediate\", \"transition\": {\"duration\": 0, \"easing\": \"linear\"}}], \"label\": \"02/10/20\", \"method\": \"animate\"}, {\"args\": [[\"02/11/20\"], {\"frame\": {\"duration\": 0, \"redraw\": true}, \"fromcurrent\": true, \"mode\": \"immediate\", \"transition\": {\"duration\": 0, \"easing\": \"linear\"}}], \"label\": \"02/11/20\", \"method\": \"animate\"}, {\"args\": [[\"02/12/20\"], {\"frame\": {\"duration\": 0, \"redraw\": true}, \"fromcurrent\": true, \"mode\": \"immediate\", \"transition\": {\"duration\": 0, \"easing\": \"linear\"}}], \"label\": \"02/12/20\", \"method\": \"animate\"}, {\"args\": [[\"1/13/2020\"], {\"frame\": {\"duration\": 0, \"redraw\": true}, \"fromcurrent\": true, \"mode\": \"immediate\", \"transition\": {\"duration\": 0, \"easing\": \"linear\"}}], \"label\": \"1/13/2020\", \"method\": \"animate\"}, {\"args\": [[\"1/15/2020\"], {\"frame\": {\"duration\": 0, \"redraw\": true}, \"fromcurrent\": true, \"mode\": \"immediate\", \"transition\": {\"duration\": 0, \"easing\": \"linear\"}}], \"label\": \"1/15/2020\", \"method\": \"animate\"}, {\"args\": [[\"1/17/2020\"], {\"frame\": {\"duration\": 0, \"redraw\": true}, \"fromcurrent\": true, \"mode\": \"immediate\", \"transition\": {\"duration\": 0, \"easing\": \"linear\"}}], \"label\": \"1/17/2020\", \"method\": \"animate\"}, {\"args\": [[\"1/20/2020\"], {\"frame\": {\"duration\": 0, \"redraw\": true}, \"fromcurrent\": true, \"mode\": \"immediate\", \"transition\": {\"duration\": 0, \"easing\": \"linear\"}}], \"label\": \"1/20/2020\", \"method\": \"animate\"}, {\"args\": [[\"1/21/2020\"], {\"frame\": {\"duration\": 0, \"redraw\": true}, \"fromcurrent\": true, \"mode\": \"immediate\", \"transition\": {\"duration\": 0, \"easing\": \"linear\"}}], \"label\": \"1/21/2020\", \"method\": \"animate\"}, {\"args\": [[\"1/22/2020\"], {\"frame\": {\"duration\": 0, \"redraw\": true}, \"fromcurrent\": true, \"mode\": \"immediate\", \"transition\": {\"duration\": 0, \"easing\": \"linear\"}}], \"label\": \"1/22/2020\", \"method\": \"animate\"}, {\"args\": [[\"1/23/2020\"], {\"frame\": {\"duration\": 0, \"redraw\": true}, \"fromcurrent\": true, \"mode\": \"immediate\", \"transition\": {\"duration\": 0, \"easing\": \"linear\"}}], \"label\": \"1/23/2020\", \"method\": \"animate\"}, {\"args\": [[\"1/24/2020\"], {\"frame\": {\"duration\": 0, \"redraw\": true}, \"fromcurrent\": true, \"mode\": \"immediate\", \"transition\": {\"duration\": 0, \"easing\": \"linear\"}}], \"label\": \"1/24/2020\", \"method\": \"animate\"}, {\"args\": [[\"1/25/2020\"], {\"frame\": {\"duration\": 0, \"redraw\": true}, \"fromcurrent\": true, \"mode\": \"immediate\", \"transition\": {\"duration\": 0, \"easing\": \"linear\"}}], \"label\": \"1/25/2020\", \"method\": \"animate\"}, {\"args\": [[\"1/26/2020\"], {\"frame\": {\"duration\": 0, \"redraw\": true}, \"fromcurrent\": true, \"mode\": \"immediate\", \"transition\": {\"duration\": 0, \"easing\": \"linear\"}}], \"label\": \"1/26/2020\", \"method\": \"animate\"}, {\"args\": [[\"1/27/2020\"], {\"frame\": {\"duration\": 0, \"redraw\": true}, \"fromcurrent\": true, \"mode\": \"immediate\", \"transition\": {\"duration\": 0, \"easing\": \"linear\"}}], \"label\": \"1/27/2020\", \"method\": \"animate\"}, {\"args\": [[\"1/28/2020\"], {\"frame\": {\"duration\": 0, \"redraw\": true}, \"fromcurrent\": true, \"mode\": \"immediate\", \"transition\": {\"duration\": 0, \"easing\": \"linear\"}}], \"label\": \"1/28/2020\", \"method\": \"animate\"}, {\"args\": [[\"1/29/2020\"], {\"frame\": {\"duration\": 0, \"redraw\": true}, \"fromcurrent\": true, \"mode\": \"immediate\", \"transition\": {\"duration\": 0, \"easing\": \"linear\"}}], \"label\": \"1/29/2020\", \"method\": \"animate\"}, {\"args\": [[\"1/30/2020\"], {\"frame\": {\"duration\": 0, \"redraw\": true}, \"fromcurrent\": true, \"mode\": \"immediate\", \"transition\": {\"duration\": 0, \"easing\": \"linear\"}}], \"label\": \"1/30/2020\", \"method\": \"animate\"}, {\"args\": [[\"1/31/2020\"], {\"frame\": {\"duration\": 0, \"redraw\": true}, \"fromcurrent\": true, \"mode\": \"immediate\", \"transition\": {\"duration\": 0, \"easing\": \"linear\"}}], \"label\": \"1/31/2020\", \"method\": \"animate\"}, {\"args\": [[\"2/13/2020\"], {\"frame\": {\"duration\": 0, \"redraw\": true}, \"fromcurrent\": true, \"mode\": \"immediate\", \"transition\": {\"duration\": 0, \"easing\": \"linear\"}}], \"label\": \"2/13/2020\", \"method\": \"animate\"}, {\"args\": [[\"2/14/2020\"], {\"frame\": {\"duration\": 0, \"redraw\": true}, \"fromcurrent\": true, \"mode\": \"immediate\", \"transition\": {\"duration\": 0, \"easing\": \"linear\"}}], \"label\": \"2/14/2020\", \"method\": \"animate\"}, {\"args\": [[\"2/15/2020\"], {\"frame\": {\"duration\": 0, \"redraw\": true}, \"fromcurrent\": true, \"mode\": \"immediate\", \"transition\": {\"duration\": 0, \"easing\": \"linear\"}}], \"label\": \"2/15/2020\", \"method\": \"animate\"}, {\"args\": [[\"2/16/2020\"], {\"frame\": {\"duration\": 0, \"redraw\": true}, \"fromcurrent\": true, \"mode\": \"immediate\", \"transition\": {\"duration\": 0, \"easing\": \"linear\"}}], \"label\": \"2/16/2020\", \"method\": \"animate\"}, {\"args\": [[\"2/17/2020\"], {\"frame\": {\"duration\": 0, \"redraw\": true}, \"fromcurrent\": true, \"mode\": \"immediate\", \"transition\": {\"duration\": 0, \"easing\": \"linear\"}}], \"label\": \"2/17/2020\", \"method\": \"animate\"}, {\"args\": [[\"2/18/2020\"], {\"frame\": {\"duration\": 0, \"redraw\": true}, \"fromcurrent\": true, \"mode\": \"immediate\", \"transition\": {\"duration\": 0, \"easing\": \"linear\"}}], \"label\": \"2/18/2020\", \"method\": \"animate\"}, {\"args\": [[\"2/19/2020\"], {\"frame\": {\"duration\": 0, \"redraw\": true}, \"fromcurrent\": true, \"mode\": \"immediate\", \"transition\": {\"duration\": 0, \"easing\": \"linear\"}}], \"label\": \"2/19/2020\", \"method\": \"animate\"}, {\"args\": [[\"2/20/2020\"], {\"frame\": {\"duration\": 0, \"redraw\": true}, \"fromcurrent\": true, \"mode\": \"immediate\", \"transition\": {\"duration\": 0, \"easing\": \"linear\"}}], \"label\": \"2/20/2020\", \"method\": \"animate\"}, {\"args\": [[\"2/21/2020\"], {\"frame\": {\"duration\": 0, \"redraw\": true}, \"fromcurrent\": true, \"mode\": \"immediate\", \"transition\": {\"duration\": 0, \"easing\": \"linear\"}}], \"label\": \"2/21/2020\", \"method\": \"animate\"}, {\"args\": [[\"2/22/2020\"], {\"frame\": {\"duration\": 0, \"redraw\": true}, \"fromcurrent\": true, \"mode\": \"immediate\", \"transition\": {\"duration\": 0, \"easing\": \"linear\"}}], \"label\": \"2/22/2020\", \"method\": \"animate\"}, {\"args\": [[\"2/23/2020\"], {\"frame\": {\"duration\": 0, \"redraw\": true}, \"fromcurrent\": true, \"mode\": \"immediate\", \"transition\": {\"duration\": 0, \"easing\": \"linear\"}}], \"label\": \"2/23/2020\", \"method\": \"animate\"}, {\"args\": [[\"2/24/2020\"], {\"frame\": {\"duration\": 0, \"redraw\": true}, \"fromcurrent\": true, \"mode\": \"immediate\", \"transition\": {\"duration\": 0, \"easing\": \"linear\"}}], \"label\": \"2/24/2020\", \"method\": \"animate\"}, {\"args\": [[\"2/25/2020\"], {\"frame\": {\"duration\": 0, \"redraw\": true}, \"fromcurrent\": true, \"mode\": \"immediate\", \"transition\": {\"duration\": 0, \"easing\": \"linear\"}}], \"label\": \"2/25/2020\", \"method\": \"animate\"}, {\"args\": [[\"2/26/2020\"], {\"frame\": {\"duration\": 0, \"redraw\": true}, \"fromcurrent\": true, \"mode\": \"immediate\", \"transition\": {\"duration\": 0, \"easing\": \"linear\"}}], \"label\": \"2/26/2020\", \"method\": \"animate\"}, {\"args\": [[\"2/27/2020\"], {\"frame\": {\"duration\": 0, \"redraw\": true}, \"fromcurrent\": true, \"mode\": \"immediate\", \"transition\": {\"duration\": 0, \"easing\": \"linear\"}}], \"label\": \"2/27/2020\", \"method\": \"animate\"}, {\"args\": [[\"2/28/2020\"], {\"frame\": {\"duration\": 0, \"redraw\": true}, \"fromcurrent\": true, \"mode\": \"immediate\", \"transition\": {\"duration\": 0, \"easing\": \"linear\"}}], \"label\": \"2/28/2020\", \"method\": \"animate\"}], \"x\": 0.1, \"xanchor\": \"left\", \"y\": 0, \"yanchor\": \"top\"}], \"template\": {\"data\": {\"bar\": [{\"error_x\": {\"color\": \"#2a3f5f\"}, \"error_y\": {\"color\": \"#2a3f5f\"}, \"marker\": {\"line\": {\"color\": \"#E5ECF6\", \"width\": 0.5}}, \"type\": \"bar\"}], \"barpolar\": [{\"marker\": {\"line\": {\"color\": \"#E5ECF6\", \"width\": 0.5}}, \"type\": \"barpolar\"}], \"carpet\": [{\"aaxis\": {\"endlinecolor\": \"#2a3f5f\", \"gridcolor\": \"white\", \"linecolor\": \"white\", \"minorgridcolor\": \"white\", \"startlinecolor\": \"#2a3f5f\"}, \"baxis\": {\"endlinecolor\": \"#2a3f5f\", \"gridcolor\": \"white\", \"linecolor\": \"white\", \"minorgridcolor\": \"white\", \"startlinecolor\": \"#2a3f5f\"}, \"type\": \"carpet\"}], \"choropleth\": [{\"colorbar\": {\"outlinewidth\": 0, \"ticks\": \"\"}, \"type\": \"choropleth\"}], \"contour\": [{\"colorbar\": {\"outlinewidth\": 0, \"ticks\": \"\"}, \"colorscale\": [[0.0, \"#0d0887\"], [0.1111111111111111, \"#46039f\"], [0.2222222222222222, \"#7201a8\"], [0.3333333333333333, \"#9c179e\"], [0.4444444444444444, \"#bd3786\"], [0.5555555555555556, \"#d8576b\"], [0.6666666666666666, \"#ed7953\"], [0.7777777777777778, \"#fb9f3a\"], [0.8888888888888888, \"#fdca26\"], [1.0, \"#f0f921\"]], \"type\": \"contour\"}], \"contourcarpet\": [{\"colorbar\": {\"outlinewidth\": 0, \"ticks\": \"\"}, \"type\": \"contourcarpet\"}], \"heatmap\": [{\"colorbar\": {\"outlinewidth\": 0, \"ticks\": \"\"}, \"colorscale\": [[0.0, \"#0d0887\"], [0.1111111111111111, \"#46039f\"], [0.2222222222222222, \"#7201a8\"], [0.3333333333333333, \"#9c179e\"], [0.4444444444444444, \"#bd3786\"], [0.5555555555555556, \"#d8576b\"], [0.6666666666666666, \"#ed7953\"], [0.7777777777777778, \"#fb9f3a\"], [0.8888888888888888, \"#fdca26\"], [1.0, \"#f0f921\"]], \"type\": \"heatmap\"}], \"heatmapgl\": [{\"colorbar\": {\"outlinewidth\": 0, \"ticks\": \"\"}, \"colorscale\": [[0.0, \"#0d0887\"], [0.1111111111111111, \"#46039f\"], [0.2222222222222222, \"#7201a8\"], [0.3333333333333333, \"#9c179e\"], [0.4444444444444444, \"#bd3786\"], [0.5555555555555556, \"#d8576b\"], [0.6666666666666666, \"#ed7953\"], [0.7777777777777778, \"#fb9f3a\"], [0.8888888888888888, \"#fdca26\"], [1.0, \"#f0f921\"]], \"type\": \"heatmapgl\"}], \"histogram\": [{\"marker\": {\"colorbar\": {\"outlinewidth\": 0, \"ticks\": \"\"}}, \"type\": \"histogram\"}], \"histogram2d\": [{\"colorbar\": {\"outlinewidth\": 0, \"ticks\": \"\"}, \"colorscale\": [[0.0, \"#0d0887\"], [0.1111111111111111, \"#46039f\"], [0.2222222222222222, \"#7201a8\"], [0.3333333333333333, \"#9c179e\"], [0.4444444444444444, \"#bd3786\"], [0.5555555555555556, \"#d8576b\"], [0.6666666666666666, \"#ed7953\"], [0.7777777777777778, \"#fb9f3a\"], [0.8888888888888888, \"#fdca26\"], [1.0, \"#f0f921\"]], \"type\": \"histogram2d\"}], \"histogram2dcontour\": [{\"colorbar\": {\"outlinewidth\": 0, \"ticks\": \"\"}, \"colorscale\": [[0.0, \"#0d0887\"], [0.1111111111111111, \"#46039f\"], [0.2222222222222222, \"#7201a8\"], [0.3333333333333333, \"#9c179e\"], [0.4444444444444444, \"#bd3786\"], [0.5555555555555556, \"#d8576b\"], [0.6666666666666666, \"#ed7953\"], [0.7777777777777778, \"#fb9f3a\"], [0.8888888888888888, \"#fdca26\"], [1.0, \"#f0f921\"]], \"type\": \"histogram2dcontour\"}], \"mesh3d\": [{\"colorbar\": {\"outlinewidth\": 0, \"ticks\": \"\"}, \"type\": \"mesh3d\"}], \"parcoords\": [{\"line\": {\"colorbar\": {\"outlinewidth\": 0, \"ticks\": \"\"}}, \"type\": \"parcoords\"}], \"pie\": [{\"automargin\": true, \"type\": \"pie\"}], \"scatter\": [{\"marker\": {\"colorbar\": {\"outlinewidth\": 0, \"ticks\": \"\"}}, \"type\": \"scatter\"}], \"scatter3d\": [{\"line\": {\"colorbar\": {\"outlinewidth\": 0, \"ticks\": \"\"}}, \"marker\": {\"colorbar\": {\"outlinewidth\": 0, \"ticks\": \"\"}}, \"type\": \"scatter3d\"}], \"scattercarpet\": [{\"marker\": {\"colorbar\": {\"outlinewidth\": 0, \"ticks\": \"\"}}, \"type\": \"scattercarpet\"}], \"scattergeo\": [{\"marker\": {\"colorbar\": {\"outlinewidth\": 0, \"ticks\": \"\"}}, \"type\": \"scattergeo\"}], \"scattergl\": [{\"marker\": {\"colorbar\": {\"outlinewidth\": 0, \"ticks\": \"\"}}, \"type\": \"scattergl\"}], \"scattermapbox\": [{\"marker\": {\"colorbar\": {\"outlinewidth\": 0, \"ticks\": \"\"}}, \"type\": \"scattermapbox\"}], \"scatterpolar\": [{\"marker\": {\"colorbar\": {\"outlinewidth\": 0, \"ticks\": \"\"}}, \"type\": \"scatterpolar\"}], \"scatterpolargl\": [{\"marker\": {\"colorbar\": {\"outlinewidth\": 0, \"ticks\": \"\"}}, \"type\": \"scatterpolargl\"}], \"scatterternary\": [{\"marker\": {\"colorbar\": {\"outlinewidth\": 0, \"ticks\": \"\"}}, \"type\": \"scatterternary\"}], \"surface\": [{\"colorbar\": {\"outlinewidth\": 0, \"ticks\": \"\"}, \"colorscale\": [[0.0, \"#0d0887\"], [0.1111111111111111, \"#46039f\"], [0.2222222222222222, \"#7201a8\"], [0.3333333333333333, \"#9c179e\"], [0.4444444444444444, \"#bd3786\"], [0.5555555555555556, \"#d8576b\"], [0.6666666666666666, \"#ed7953\"], [0.7777777777777778, \"#fb9f3a\"], [0.8888888888888888, \"#fdca26\"], [1.0, \"#f0f921\"]], \"type\": \"surface\"}], \"table\": [{\"cells\": {\"fill\": {\"color\": \"#EBF0F8\"}, \"line\": {\"color\": \"white\"}}, \"header\": {\"fill\": {\"color\": \"#C8D4E3\"}, \"line\": {\"color\": \"white\"}}, \"type\": \"table\"}]}, \"layout\": {\"annotationdefaults\": {\"arrowcolor\": \"#2a3f5f\", \"arrowhead\": 0, \"arrowwidth\": 1}, \"coloraxis\": {\"colorbar\": {\"outlinewidth\": 0, \"ticks\": \"\"}}, \"colorscale\": {\"diverging\": [[0, \"#8e0152\"], [0.1, \"#c51b7d\"], [0.2, \"#de77ae\"], [0.3, \"#f1b6da\"], [0.4, \"#fde0ef\"], [0.5, \"#f7f7f7\"], [0.6, \"#e6f5d0\"], [0.7, \"#b8e186\"], [0.8, \"#7fbc41\"], [0.9, \"#4d9221\"], [1, \"#276419\"]], \"sequential\": [[0.0, \"#0d0887\"], [0.1111111111111111, \"#46039f\"], [0.2222222222222222, \"#7201a8\"], [0.3333333333333333, \"#9c179e\"], [0.4444444444444444, \"#bd3786\"], [0.5555555555555556, \"#d8576b\"], [0.6666666666666666, \"#ed7953\"], [0.7777777777777778, \"#fb9f3a\"], [0.8888888888888888, \"#fdca26\"], [1.0, \"#f0f921\"]], \"sequentialminus\": [[0.0, \"#0d0887\"], [0.1111111111111111, \"#46039f\"], [0.2222222222222222, \"#7201a8\"], [0.3333333333333333, \"#9c179e\"], [0.4444444444444444, \"#bd3786\"], [0.5555555555555556, \"#d8576b\"], [0.6666666666666666, \"#ed7953\"], [0.7777777777777778, \"#fb9f3a\"], [0.8888888888888888, \"#fdca26\"], [1.0, \"#f0f921\"]]}, \"colorway\": [\"#636efa\", \"#EF553B\", \"#00cc96\", \"#ab63fa\", \"#FFA15A\", \"#19d3f3\", \"#FF6692\", \"#B6E880\", \"#FF97FF\", \"#FECB52\"], \"font\": {\"color\": \"#2a3f5f\"}, \"geo\": {\"bgcolor\": \"white\", \"lakecolor\": \"white\", \"landcolor\": \"#E5ECF6\", \"showlakes\": true, \"showland\": true, \"subunitcolor\": \"white\"}, \"hoverlabel\": {\"align\": \"left\"}, \"hovermode\": \"closest\", \"mapbox\": {\"style\": \"light\"}, \"paper_bgcolor\": \"white\", \"plot_bgcolor\": \"#E5ECF6\", \"polar\": {\"angularaxis\": {\"gridcolor\": \"white\", \"linecolor\": \"white\", \"ticks\": \"\"}, \"bgcolor\": \"#E5ECF6\", \"radialaxis\": {\"gridcolor\": \"white\", \"linecolor\": \"white\", \"ticks\": \"\"}}, \"scene\": {\"xaxis\": {\"backgroundcolor\": \"#E5ECF6\", \"gridcolor\": \"white\", \"gridwidth\": 2, \"linecolor\": \"white\", \"showbackground\": true, \"ticks\": \"\", \"zerolinecolor\": \"white\"}, \"yaxis\": {\"backgroundcolor\": \"#E5ECF6\", \"gridcolor\": \"white\", \"gridwidth\": 2, \"linecolor\": \"white\", \"showbackground\": true, \"ticks\": \"\", \"zerolinecolor\": \"white\"}, \"zaxis\": {\"backgroundcolor\": \"#E5ECF6\", \"gridcolor\": \"white\", \"gridwidth\": 2, \"linecolor\": \"white\", \"showbackground\": true, \"ticks\": \"\", \"zerolinecolor\": \"white\"}}, \"shapedefaults\": {\"line\": {\"color\": \"#2a3f5f\"}}, \"ternary\": {\"aaxis\": {\"gridcolor\": \"white\", \"linecolor\": \"white\", \"ticks\": \"\"}, \"baxis\": {\"gridcolor\": \"white\", \"linecolor\": \"white\", \"ticks\": \"\"}, \"bgcolor\": \"#E5ECF6\", \"caxis\": {\"gridcolor\": \"white\", \"linecolor\": \"white\", \"ticks\": \"\"}}, \"title\": {\"x\": 0.05}, \"xaxis\": {\"automargin\": true, \"gridcolor\": \"white\", \"linecolor\": \"white\", \"ticks\": \"\", \"title\": {\"standoff\": 15}, \"zerolinecolor\": \"white\", \"zerolinewidth\": 2}, \"yaxis\": {\"automargin\": true, \"gridcolor\": \"white\", \"linecolor\": \"white\", \"ticks\": \"\", \"title\": {\"standoff\": 15}, \"zerolinecolor\": \"white\", \"zerolinewidth\": 2}}}, \"title\": {\"text\": \"Spread of COVID-19\", \"x\": 0.5}, \"updatemenus\": [{\"buttons\": [{\"args\": [null, {\"frame\": {\"duration\": 500, \"redraw\": true}, \"fromcurrent\": true, \"mode\": \"immediate\", \"transition\": {\"duration\": 500, \"easing\": \"linear\"}}], \"label\": \"&#9654;\", \"method\": \"animate\"}, {\"args\": [[null], {\"frame\": {\"duration\": 0, \"redraw\": true}, \"fromcurrent\": true, \"mode\": \"immediate\", \"transition\": {\"duration\": 0, \"easing\": \"linear\"}}], \"label\": \"&#9724;\", \"method\": \"animate\"}], \"direction\": \"left\", \"pad\": {\"r\": 10, \"t\": 70}, \"showactive\": false, \"type\": \"buttons\", \"x\": 0.1, \"xanchor\": \"right\", \"y\": 0, \"yanchor\": \"top\"}]},\n",
       "                        {\"responsive\": true}\n",
       "                    ).then(function(){\n",
       "                            Plotly.addFrames('5811b139-8ced-48f5-a765-5a5aafefc2d2', [{\"data\": [{\"coloraxis\": \"coloraxis\", \"geo\": \"geo\", \"hovertemplate\": \"<b>%{hovertext}</b><br><br>reporting date=02/01/20<br>country=%{location}<br>case_in_country=%{z}<extra></extra>\", \"hovertext\": [\"Australia\", \"Canada\", \"Germany\", \"Japan\", \"Singapore\", \"South Korea\", \"UAE\"], \"locationmode\": \"country names\", \"locations\": [\"Australia\", \"Canada\", \"Germany\", \"Japan\", \"Singapore\", \"South Korea\", \"UAE\"], \"name\": \"\", \"z\": [33.0, 4.0, 8.0, 45.0, 35.0, 12.0, 5.0], \"type\": \"choropleth\"}], \"name\": \"02/01/20\"}, {\"data\": [{\"coloraxis\": \"coloraxis\", \"geo\": \"geo\", \"hovertemplate\": \"<b>%{hovertext}</b><br><br>reporting date=02/02/20<br>country=%{location}<br>case_in_country=%{z}<extra></extra>\", \"hovertext\": [\"Germany\", \"Hong Kong\", \"India\", \"Phillipines\", \"South Korea\"], \"locationmode\": \"country names\", \"locations\": [\"Germany\", \"Hong Kong\", \"India\", \"Phillipines\", \"South Korea\"], \"name\": \"\", \"z\": [19.0, 29.0, 2.0, 3.0, 42.0], \"type\": \"choropleth\"}], \"name\": \"02/02/20\"}, {\"data\": [{\"coloraxis\": \"coloraxis\", \"geo\": \"geo\", \"hovertemplate\": \"<b>%{hovertext}</b><br><br>reporting date=02/03/20<br>country=%{location}<br>case_in_country=%{z}<extra></extra>\", \"hovertext\": [\"India\", \"USA\", \"Vietnam\"], \"locationmode\": \"country names\", \"locations\": [\"India\", \"USA\", \"Vietnam\"], \"name\": \"\", \"z\": [3.0, 30.0, 21.0], \"type\": \"choropleth\"}], \"name\": \"02/03/20\"}, {\"data\": [{\"coloraxis\": \"coloraxis\", \"geo\": \"geo\", \"hovertemplate\": \"<b>%{hovertext}</b><br><br>reporting date=02/04/20<br>country=%{location}<br>case_in_country=%{z}<extra></extra>\", \"hovertext\": [\"Australia\", \"Belgium\", \"Hong Kong\", \"Japan\", \"Malaysia\", \"Singapore\", \"South Korea\", \"Thailand\", \"Vietnam\"], \"locationmode\": \"country names\", \"locations\": [\"Australia\", \"Belgium\", \"Hong Kong\", \"Japan\", \"Malaysia\", \"Singapore\", \"South Korea\", \"Thailand\", \"Vietnam\"], \"name\": \"\", \"z\": [13.0, 1.0, 51.0, 54.0, 19.0, 129.0, 16.0, 115.0, 19.0], \"type\": \"choropleth\"}], \"name\": \"02/04/20\"}, {\"data\": [{\"coloraxis\": \"coloraxis\", \"geo\": \"geo\", \"hovertemplate\": \"<b>%{hovertext}</b><br><br>reporting date=02/05/20<br>country=%{location}<br>case_in_country=%{z}<extra></extra>\", \"hovertext\": [\"Australia\", \"Canada\", \"Germany\", \"Hong Kong\", \"Japan\", \"Malaysia\", \"Phillipines\", \"Singapore\", \"South Korea\", \"Taiwan\", \"USA\"], \"locationmode\": \"country names\", \"locations\": [\"Australia\", \"Canada\", \"Germany\", \"Hong Kong\", \"Japan\", \"Malaysia\", \"Phillipines\", \"Singapore\", \"South Korea\", \"Taiwan\", \"USA\"], \"name\": \"\", \"z\": [14.0, 5.0, 23.0, 60.0, 63.0, 23.0, 3.0, 106.0, 54.0, 11.0, 12.0], \"type\": \"choropleth\"}], \"name\": \"02/05/20\"}, {\"data\": [{\"coloraxis\": \"coloraxis\", \"geo\": \"geo\", \"hovertemplate\": \"<b>%{hovertext}</b><br><br>reporting date=02/06/20<br>country=%{location}<br>case_in_country=%{z}<extra></extra>\", \"hovertext\": [\"Australia\", \"Canada\", \"Germany\", \"Hong Kong\", \"Italy\", \"Malaysia\", \"Singapore\", \"South Korea\", \"Taiwan\", \"UK\", \"Vietnam\"], \"locationmode\": \"country names\", \"locations\": [\"Australia\", \"Canada\", \"Germany\", \"Hong Kong\", \"Italy\", \"Malaysia\", \"Singapore\", \"South Korea\", \"Taiwan\", \"UK\", \"Vietnam\"], \"name\": \"\", \"z\": [15.0, 13.0, 13.0, 69.0, 3.0, 27.0, 59.0, 86.0, 70.0, 3.0, 23.0], \"type\": \"choropleth\"}], \"name\": \"02/06/20\"}, {\"data\": [{\"coloraxis\": \"coloraxis\", \"geo\": \"geo\", \"hovertemplate\": \"<b>%{hovertext}</b><br><br>reporting date=02/07/20<br>country=%{location}<br>case_in_country=%{z}<extra></extra>\", \"hovertext\": [\"Germany\", \"Hong Kong\", \"Malaysia\", \"Singapore\", \"South Korea\"], \"locationmode\": \"country names\", \"locations\": [\"Germany\", \"Hong Kong\", \"Malaysia\", \"Singapore\", \"South Korea\"], \"name\": \"\", \"z\": [14.0, 51.0, 15.0, 96.0, 24.0], \"type\": \"choropleth\"}], \"name\": \"02/07/20\"}, {\"data\": [{\"coloraxis\": \"coloraxis\", \"geo\": \"geo\", \"hovertemplate\": \"<b>%{hovertext}</b><br><br>reporting date=02/08/20<br>country=%{location}<br>case_in_country=%{z}<extra></extra>\", \"hovertext\": [\"France\", \"Japan\", \"Malaysia\", \"Singapore\", \"Taiwan\", \"Thailand\", \"UAE\", \"Vietnam\"], \"locationmode\": \"country names\", \"locations\": [\"France\", \"Japan\", \"Malaysia\", \"Singapore\", \"Taiwan\", \"Thailand\", \"UAE\", \"Vietnam\"], \"name\": \"\", \"z\": [45.0, 23.0, 16.0, 259.0, 35.0, 203.0, 13.0, 13.0], \"type\": \"choropleth\"}], \"name\": \"02/08/20\"}, {\"data\": [{\"coloraxis\": \"coloraxis\", \"geo\": \"geo\", \"hovertemplate\": \"<b>%{hovertext}</b><br><br>reporting date=02/09/20<br>country=%{location}<br>case_in_country=%{z}<extra></extra>\", \"hovertext\": [\"Hong Kong\", \"Malaysia\", \"Singapore\", \"South Korea\", \"UK\", \"Vietnam\"], \"locationmode\": \"country names\", \"locations\": [\"Hong Kong\", \"Malaysia\", \"Singapore\", \"South Korea\", \"UK\", \"Vietnam\"], \"name\": \"\", \"z\": [315.0, 17.0, 126.0, 78.0, 4.0, 14.0], \"type\": \"choropleth\"}], \"name\": \"02/09/20\"}, {\"data\": [{\"coloraxis\": \"coloraxis\", \"geo\": \"geo\", \"hovertemplate\": \"<b>%{hovertext}</b><br><br>reporting date=02/10/20<br>country=%{location}<br>case_in_country=%{z}<extra></extra>\", \"hovertext\": [\"Hong Kong\", \"Japan\", \"Malaysia\", \"Singapore\", \"Spain\", \"UAE\", \"UK\", \"USA\", \"Vietnam\"], \"locationmode\": \"country names\", \"locations\": [\"Hong Kong\", \"Japan\", \"Malaysia\", \"Singapore\", \"Spain\", \"UAE\", \"UK\", \"USA\", \"Vietnam\"], \"name\": \"\", \"z\": [237.0, 49.0, 18.0, 89.0, 2.0, 8.0, 26.0, 13.0, 15.0], \"type\": \"choropleth\"}], \"name\": \"02/10/20\"}, {\"data\": [{\"coloraxis\": \"coloraxis\", \"geo\": \"geo\", \"hovertemplate\": \"<b>%{hovertext}</b><br><br>reporting date=02/11/20<br>country=%{location}<br>case_in_country=%{z}<extra></extra>\", \"hovertext\": [\"Germany\", \"Hong Kong\", \"Singapore\", \"South Korea\", \"Thailand\"], \"locationmode\": \"country names\", \"locations\": [\"Germany\", \"Hong Kong\", \"Singapore\", \"South Korea\", \"Thailand\"], \"name\": \"\", \"z\": [31.0, 322.0, 93.0, 28.0, 33.0], \"type\": \"choropleth\"}], \"name\": \"02/11/20\"}, {\"data\": [{\"coloraxis\": \"coloraxis\", \"geo\": \"geo\", \"hovertemplate\": \"<b>%{hovertext}</b><br><br>reporting date=02/12/20<br>country=%{location}<br>case_in_country=%{z}<extra></extra>\", \"hovertext\": [\"Hong Kong\", \"Singapore\", \"UK\", \"USA\"], \"locationmode\": \"country names\", \"locations\": [\"Hong Kong\", \"Singapore\", \"UK\", \"USA\"], \"name\": \"\", \"z\": [50.0, 147.0, 9.0, 14.0], \"type\": \"choropleth\"}], \"name\": \"02/12/20\"}, {\"data\": [{\"coloraxis\": \"coloraxis\", \"geo\": \"geo\", \"hovertemplate\": \"<b>%{hovertext}</b><br><br>reporting date=1/13/2020<br>country=%{location}<br>case_in_country=%{z}<extra></extra>\", \"hovertext\": [\"Thailand\"], \"locationmode\": \"country names\", \"locations\": [\"Thailand\"], \"name\": \"\", \"z\": [1.0], \"type\": \"choropleth\"}], \"name\": \"1/13/2020\"}, {\"data\": [{\"coloraxis\": \"coloraxis\", \"geo\": \"geo\", \"hovertemplate\": \"<b>%{hovertext}</b><br><br>reporting date=1/15/2020<br>country=%{location}<br>case_in_country=%{z}<extra></extra>\", \"hovertext\": [\"Japan\"], \"locationmode\": \"country names\", \"locations\": [\"Japan\"], \"name\": \"\", \"z\": [1.0], \"type\": \"choropleth\"}], \"name\": \"1/15/2020\"}, {\"data\": [{\"coloraxis\": \"coloraxis\", \"geo\": \"geo\", \"hovertemplate\": \"<b>%{hovertext}</b><br><br>reporting date=1/17/2020<br>country=%{location}<br>case_in_country=%{z}<extra></extra>\", \"hovertext\": [\"Thailand\"], \"locationmode\": \"country names\", \"locations\": [\"Thailand\"], \"name\": \"\", \"z\": [2.0], \"type\": \"choropleth\"}], \"name\": \"1/17/2020\"}, {\"data\": [{\"coloraxis\": \"coloraxis\", \"geo\": \"geo\", \"hovertemplate\": \"<b>%{hovertext}</b><br><br>reporting date=1/20/2020<br>country=%{location}<br>case_in_country=%{z}<extra></extra>\", \"hovertext\": [\"South Korea\"], \"locationmode\": \"country names\", \"locations\": [\"South Korea\"], \"name\": \"\", \"z\": [1.0], \"type\": \"choropleth\"}], \"name\": \"1/20/2020\"}, {\"data\": [{\"coloraxis\": \"coloraxis\", \"geo\": \"geo\", \"hovertemplate\": \"<b>%{hovertext}</b><br><br>reporting date=1/21/2020<br>country=%{location}<br>case_in_country=%{z}<extra></extra>\", \"hovertext\": [\"Taiwan\", \"USA\"], \"locationmode\": \"country names\", \"locations\": [\"Taiwan\", \"USA\"], \"name\": \"\", \"z\": [1.0, 1.0], \"type\": \"choropleth\"}], \"name\": \"1/21/2020\"}, {\"data\": [{\"coloraxis\": \"coloraxis\", \"geo\": \"geo\", \"hovertemplate\": \"<b>%{hovertext}</b><br><br>reporting date=1/22/2020<br>country=%{location}<br>case_in_country=%{z}<extra></extra>\", \"hovertext\": [\"Hong Kong\", \"Thailand\"], \"locationmode\": \"country names\", \"locations\": [\"Hong Kong\", \"Thailand\"], \"name\": \"\", \"z\": [3.0, 12.0], \"type\": \"choropleth\"}], \"name\": \"1/22/2020\"}, {\"data\": [{\"coloraxis\": \"coloraxis\", \"geo\": \"geo\", \"hovertemplate\": \"<b>%{hovertext}</b><br><br>reporting date=1/23/2020<br>country=%{location}<br>case_in_country=%{z}<extra></extra>\", \"hovertext\": [\"Vietnam\"], \"locationmode\": \"country names\", \"locations\": [\"Vietnam\"], \"name\": \"\", \"z\": [3.0], \"type\": \"choropleth\"}], \"name\": \"1/23/2020\"}, {\"data\": [{\"coloraxis\": \"coloraxis\", \"geo\": \"geo\", \"hovertemplate\": \"<b>%{hovertext}</b><br><br>reporting date=1/24/2020<br>country=%{location}<br>case_in_country=%{z}<extra></extra>\", \"hovertext\": [\"Hong Kong\", \"Japan\", \"Malaysia\", \"Singapore\", \"South Korea\", \"Taiwan\", \"Thailand\", \"USA\"], \"locationmode\": \"country names\", \"locations\": [\"Hong Kong\", \"Japan\", \"Malaysia\", \"Singapore\", \"South Korea\", \"Taiwan\", \"Thailand\", \"USA\"], \"name\": \"\", \"z\": [12.0, 2.0, 1.0, 6.0, 2.0, 5.0, 6.0, 2.0], \"type\": \"choropleth\"}], \"name\": \"1/24/2020\"}, {\"data\": [{\"coloraxis\": \"coloraxis\", \"geo\": \"geo\", \"hovertemplate\": \"<b>%{hovertext}</b><br><br>reporting date=1/25/2020<br>country=%{location}<br>case_in_country=%{z}<extra></extra>\", \"hovertext\": [\"Australia\", \"France\", \"Japan\", \"Malaysia\", \"Nepal\", \"South Korea\"], \"locationmode\": \"country names\", \"locations\": [\"Australia\", \"France\", \"Japan\", \"Malaysia\", \"Nepal\", \"South Korea\"], \"name\": \"\", \"z\": [10.0, 6.0, 3.0, 9.0, 1.0, 3.0], \"type\": \"choropleth\"}], \"name\": \"1/25/2020\"}, {\"data\": [{\"coloraxis\": \"coloraxis\", \"geo\": \"geo\", \"hovertemplate\": \"<b>%{hovertext}</b><br><br>reporting date=1/26/2020<br>country=%{location}<br>case_in_country=%{z}<extra></extra>\", \"hovertext\": [\"Australia\", \"Canada\", \"Japan\", \"Singapore\", \"Thailand\", \"USA\"], \"locationmode\": \"country names\", \"locations\": [\"Australia\", \"Canada\", \"Japan\", \"Singapore\", \"Thailand\", \"USA\"], \"name\": \"\", \"z\": [5.0, 1.0, 4.0, 4.0, 15.0, 12.0], \"type\": \"choropleth\"}], \"name\": \"1/26/2020\"}, {\"data\": [{\"coloraxis\": \"coloraxis\", \"geo\": \"geo\", \"hovertemplate\": \"<b>%{hovertext}</b><br><br>reporting date=1/27/2020<br>country=%{location}<br>case_in_country=%{z}<extra></extra>\", \"hovertext\": [\"Cambodia\", \"Canada\", \"Hong Kong\", \"Singapore\", \"South Korea\", \"Taiwan\"], \"locationmode\": \"country names\", \"locations\": [\"Cambodia\", \"Canada\", \"Hong Kong\", \"Singapore\", \"South Korea\", \"Taiwan\"], \"name\": \"\", \"z\": [1.0, 2.0, 21.0, 5.0, 4.0, 9.0], \"type\": \"choropleth\"}], \"name\": \"1/27/2020\"}, {\"data\": [{\"coloraxis\": \"coloraxis\", \"geo\": \"geo\", \"hovertemplate\": \"<b>%{hovertext}</b><br><br>reporting date=1/28/2020<br>country=%{location}<br>case_in_country=%{z}<extra></extra>\", \"hovertext\": [\"Canada\", \"France\", \"Germany\", \"Japan\", \"Singapore\", \"Sri Lanka\", \"Taiwan\", \"Thailand\"], \"locationmode\": \"country names\", \"locations\": [\"Canada\", \"France\", \"Germany\", \"Japan\", \"Singapore\", \"Sri Lanka\", \"Taiwan\", \"Thailand\"], \"name\": \"\", \"z\": [3.0, 4.0, 1.0, 18.0, 13.0, 1.0, 21.0, 69.0], \"type\": \"choropleth\"}], \"name\": \"1/28/2020\"}, {\"data\": [{\"coloraxis\": \"coloraxis\", \"geo\": \"geo\", \"hovertemplate\": \"<b>%{hovertext}</b><br><br>reporting date=1/29/2020<br>country=%{location}<br>case_in_country=%{z}<extra></extra>\", \"hovertext\": [\"Australia\", \"Finland\", \"France\", \"Germany\", \"Hong Kong\", \"Japan\", \"Malaysia\", \"Singapore\", \"UAE\"], \"locationmode\": \"country names\", \"locations\": [\"Australia\", \"Finland\", \"France\", \"Germany\", \"Hong Kong\", \"Japan\", \"Malaysia\", \"Singapore\", \"UAE\"], \"name\": \"\", \"z\": [13.0, 1.0, 5.0, 9.0, 19.0, 8.0, 18.0, 27.0, 10.0], \"type\": \"choropleth\"}], \"name\": \"1/29/2020\"}, {\"data\": [{\"coloraxis\": \"coloraxis\", \"geo\": \"geo\", \"hovertemplate\": \"<b>%{hovertext}</b><br><br>reporting date=1/30/2020<br>country=%{location}<br>case_in_country=%{z}<extra></extra>\", \"hovertext\": [\"Australia\", \"France\", \"Germany\", \"Hong Kong\", \"India\", \"Japan\", \"Malaysia\", \"Singapore\", \"South Korea\", \"Taiwan\", \"Thailand\", \"USA\", \"Vietnam\"], \"locationmode\": \"country names\", \"locations\": [\"Australia\", \"France\", \"Germany\", \"Hong Kong\", \"India\", \"Japan\", \"Malaysia\", \"Singapore\", \"South Korea\", \"Taiwan\", \"Thailand\", \"USA\", \"Vietnam\"], \"name\": \"\", \"z\": [8.0, 6.0, 5.0, 23.0, 1.0, 42.0, 8.0, 36.0, 20.0, 9.0, 15.0, 6.0, 12.0], \"type\": \"choropleth\"}], \"name\": \"1/30/2020\"}, {\"data\": [{\"coloraxis\": \"coloraxis\", \"geo\": \"geo\", \"hovertemplate\": \"<b>%{hovertext}</b><br><br>reporting date=1/31/2020<br>country=%{location}<br>case_in_country=%{z}<extra></extra>\", \"hovertext\": [\"Australia\", \"Germany\", \"Hong Kong\", \"Italy\", \"Japan\", \"Russia\", \"Singapore\", \"South Korea\", \"Spain\", \"Sweden\", \"Taiwan\", \"Thailand\", \"UK\", \"USA\"], \"locationmode\": \"country names\", \"locations\": [\"Australia\", \"Germany\", \"Hong Kong\", \"Italy\", \"Japan\", \"Russia\", \"Singapore\", \"South Korea\", \"Spain\", \"Sweden\", \"Taiwan\", \"Thailand\", \"UK\", \"USA\"], \"name\": \"\", \"z\": [9.0, 13.0, 13.0, 3.0, 13.0, 3.0, 45.0, 36.0, 1.0, 1.0, 10.0, 90.0, 3.0, 15.0], \"type\": \"choropleth\"}], \"name\": \"1/31/2020\"}, {\"data\": [{\"coloraxis\": \"coloraxis\", \"geo\": \"geo\", \"hovertemplate\": \"<b>%{hovertext}</b><br><br>reporting date=2/13/2020<br>country=%{location}<br>case_in_country=%{z}<extra></extra>\", \"hovertext\": [\"Hong Kong\", \"Japan\", \"Malaysia\", \"Singapore\", \"USA\", \"Vietnam\"], \"locationmode\": \"country names\", \"locations\": [\"Hong Kong\", \"Japan\", \"Malaysia\", \"Singapore\", \"USA\", \"Vietnam\"], \"name\": \"\", \"z\": [156.0, 114.0, 19.0, 436.0, 15.0, 16.0], \"type\": \"choropleth\"}], \"name\": \"2/13/2020\"}, {\"data\": [{\"coloraxis\": \"coloraxis\", \"geo\": \"geo\", \"hovertemplate\": \"<b>%{hovertext}</b><br><br>reporting date=2/14/2020<br>country=%{location}<br>case_in_country=%{z}<extra></extra>\", \"hovertext\": [\"Canada\", \"Egypt\", \"Hong Kong\", \"Japan\", \"Singapore\"], \"locationmode\": \"country names\", \"locations\": [\"Canada\", \"Egypt\", \"Hong Kong\", \"Japan\", \"Singapore\"], \"name\": \"\", \"z\": [8.0, 1.0, 165.0, 238.0, 567.0], \"type\": \"choropleth\"}], \"name\": \"2/14/2020\"}, {\"data\": [{\"coloraxis\": \"coloraxis\", \"geo\": \"geo\", \"hovertemplate\": \"<b>%{hovertext}</b><br><br>reporting date=2/15/2020<br>country=%{location}<br>case_in_country=%{z}<extra></extra>\", \"hovertext\": [\"France\", \"Japan\", \"Singapore\", \"Thailand\"], \"locationmode\": \"country names\", \"locations\": [\"France\", \"Japan\", \"Singapore\", \"Thailand\"], \"name\": \"\", \"z\": [12.0, 243.0, 350.0, 34.0], \"type\": \"choropleth\"}], \"name\": \"2/15/2020\"}, {\"data\": [{\"coloraxis\": \"coloraxis\", \"geo\": \"geo\", \"hovertemplate\": \"<b>%{hovertext}</b><br><br>reporting date=2/16/2020<br>country=%{location}<br>case_in_country=%{z}<extra></extra>\", \"hovertext\": [\"Hong Kong\", \"Japan\", \"Malaysia\", \"Singapore\", \"South Korea\", \"Taiwan\", \"Thailand\", \"UAE\"], \"locationmode\": \"country names\", \"locations\": [\"Hong Kong\", \"Japan\", \"Malaysia\", \"Singapore\", \"South Korea\", \"Taiwan\", \"Thailand\", \"UAE\"], \"name\": \"\", \"z\": [57.0, 182.0, 63.0, 222.0, 29.0, 39.0, 35.0, 9.0], \"type\": \"choropleth\"}], \"name\": \"2/16/2020\"}, {\"data\": [{\"coloraxis\": \"coloraxis\", \"geo\": \"geo\", \"hovertemplate\": \"<b>%{hovertext}</b><br><br>reporting date=2/17/2020<br>country=%{location}<br>case_in_country=%{z}<extra></extra>\", \"hovertext\": [\"Hong Kong\", \"Japan\", \"Singapore\", \"South Korea\", \"Taiwan\"], \"locationmode\": \"country names\", \"locations\": [\"Hong Kong\", \"Japan\", \"Singapore\", \"South Korea\", \"Taiwan\"], \"name\": \"\", \"z\": [177.0, 303.0, 153.0, 30.0, 43.0], \"type\": \"choropleth\"}], \"name\": \"2/17/2020\"}, {\"data\": [{\"coloraxis\": \"coloraxis\", \"geo\": \"geo\", \"hovertemplate\": \"<b>%{hovertext}</b><br><br>reporting date=2/18/2020<br>country=%{location}<br>case_in_country=%{z}<extra></extra>\", \"hovertext\": [\"Hong Kong\", \"Japan\", \"Singapore\", \"South Korea\"], \"locationmode\": \"country names\", \"locations\": [\"Hong Kong\", \"Japan\", \"Singapore\", \"South Korea\"], \"name\": \"\", \"z\": [123.0, 339.0, 318.0, 31.0], \"type\": \"choropleth\"}], \"name\": \"2/18/2020\"}, {\"data\": [{\"coloraxis\": \"coloraxis\", \"geo\": \"geo\", \"hovertemplate\": \"<b>%{hovertext}</b><br><br>reporting date=2/19/2020<br>country=%{location}<br>case_in_country=%{z}<extra></extra>\", \"hovertext\": [\"Hong Kong\", \"Iran\", \"Japan\", \"Singapore\", \"South Korea\", \"Taiwan\"], \"locationmode\": \"country names\", \"locations\": [\"Hong Kong\", \"Iran\", \"Japan\", \"Singapore\", \"South Korea\", \"Taiwan\"], \"name\": \"\", \"z\": [255.0, 3.0, 715.0, 334.0, 830.0, 23.0], \"type\": \"choropleth\"}], \"name\": \"2/19/2020\"}, {\"data\": [{\"coloraxis\": \"coloraxis\", \"geo\": \"geo\", \"hovertemplate\": \"<b>%{hovertext}</b><br><br>reporting date=2/20/2020<br>country=%{location}<br>case_in_country=%{z}<extra></extra>\", \"hovertext\": [\"Hong Kong\", \"Iran\", \"Japan\", \"South Korea\", \"Taiwan\", \"USA\"], \"locationmode\": \"country names\", \"locations\": [\"Hong Kong\", \"Iran\", \"Japan\", \"South Korea\", \"Taiwan\", \"USA\"], \"name\": \"\", \"z\": [270.0, 12.0, 675.0, 4355.0, 24.0, 16.0], \"type\": \"choropleth\"}], \"name\": \"2/20/2020\"}, {\"data\": [{\"coloraxis\": \"coloraxis\", \"geo\": \"geo\", \"hovertemplate\": \"<b>%{hovertext}</b><br><br>reporting date=2/21/2020<br>country=%{location}<br>case_in_country=%{z}<extra></extra>\", \"hovertext\": [\"Canada\", \"Iran\", \"Israel\", \"Japan\", \"Lebanon\", \"Singapore\", \"South Korea\", \"Taiwan\", \"UAE\", \"USA\"], \"locationmode\": \"country names\", \"locations\": [\"Canada\", \"Iran\", \"Israel\", \"Japan\", \"Lebanon\", \"Singapore\", \"South Korea\", \"Taiwan\", \"UAE\", \"USA\"], \"name\": \"\", \"z\": [9.0, 156.0, 1.0, 1026.0, 1.0, 86.0, 161.0, 51.0, 21.0, 17.0], \"type\": \"choropleth\"}], \"name\": \"2/21/2020\"}, {\"data\": [{\"coloraxis\": \"coloraxis\", \"geo\": \"geo\", \"hovertemplate\": \"<b>%{hovertext}</b><br><br>reporting date=2/22/2020<br>country=%{location}<br>case_in_country=%{z}<extra></extra>\", \"hovertext\": [\"Hong Kong\", \"Japan\", \"Singapore\", \"South Korea\", \"UAE\"], \"locationmode\": \"country names\", \"locations\": [\"Hong Kong\", \"Japan\", \"Singapore\", \"South Korea\", \"UAE\"], \"name\": \"\", \"z\": [70.0, 2255.0, 264.0, 949.0, 25.0], \"type\": \"choropleth\"}], \"name\": \"2/22/2020\"}, {\"data\": [{\"coloraxis\": \"coloraxis\", \"geo\": \"geo\", \"hovertemplate\": \"<b>%{hovertext}</b><br><br>reporting date=2/23/2020<br>country=%{location}<br>case_in_country=%{z}<extra></extra>\", \"hovertext\": [\"Hong Kong\", \"Japan\", \"South Korea\", \"Taiwan\", \"UK\"], \"locationmode\": \"country names\", \"locations\": [\"Hong Kong\", \"Japan\", \"South Korea\", \"Taiwan\", \"UK\"], \"name\": \"\", \"z\": [290.0, 1687.0, 1318.0, 55.0, 46.0], \"type\": \"choropleth\"}], \"name\": \"2/23/2020\"}, {\"data\": [{\"coloraxis\": \"coloraxis\", \"geo\": \"geo\", \"hovertemplate\": \"<b>%{hovertext}</b><br><br>reporting date=2/24/2020<br>country=%{location}<br>case_in_country=%{z}<extra></extra>\", \"hovertext\": [\"Afghanistan\", \"Bahrain\", \"Canada\", \"Hong Kong\", \"Japan\", \"Kuwait\", \"Singapore\", \"Spain\", \"Taiwan\"], \"locationmode\": \"country names\", \"locations\": [\"Afghanistan\", \"Bahrain\", \"Canada\", \"Hong Kong\", \"Japan\", \"Kuwait\", \"Singapore\", \"Spain\", \"Taiwan\"], \"name\": \"\", \"z\": [1.0, 3.0, 21.0, 546.0, 1602.0, 15.0, 90.0, 3.0, 59.0], \"type\": \"choropleth\"}], \"name\": \"2/24/2020\"}, {\"data\": [{\"coloraxis\": \"coloraxis\", \"geo\": \"geo\", \"hovertemplate\": \"<b>%{hovertext}</b><br><br>reporting date=2/25/2020<br>country=%{location}<br>case_in_country=%{z}<extra></extra>\", \"hovertext\": [\"Austria\", \"Bahrain\", \"Croatia\", \"France\", \"Hong Kong\", \"Japan\", \"Kuwait\", \"Singapore\", \"South Korea\", \"Spain\", \"Switzerland\", \"Taiwan\", \"Thailand\"], \"locationmode\": \"country names\", \"locations\": [\"Austria\", \"Bahrain\", \"Croatia\", \"France\", \"Hong Kong\", \"Japan\", \"Kuwait\", \"Singapore\", \"South Korea\", \"Spain\", \"Switzerland\", \"Taiwan\", \"Thailand\"], \"name\": \"\", \"z\": [3.0, 150.0, 1.0, 27.0, 334.0, 1148.0, 30.0, 91.0, 925.0, 22.0, 1.0, 31.0, 73.0], \"type\": \"choropleth\"}], \"name\": \"2/25/2020\"}, {\"data\": [{\"coloraxis\": \"coloraxis\", \"geo\": \"geo\", \"hovertemplate\": \"<b>%{hovertext}</b><br><br>reporting date=2/26/2020<br>country=%{location}<br>case_in_country=%{z}<extra></extra>\", \"hovertext\": [\"Algeria\", \"France\", \"Germany\", \"Hong Kong\", \"Japan\", \"Singapore\", \"South Korea\", \"Spain\", \"Taiwan\", \"Thailand\"], \"locationmode\": \"country names\", \"locations\": [\"Algeria\", \"France\", \"Germany\", \"Hong Kong\", \"Japan\", \"Singapore\", \"South Korea\", \"Spain\", \"Taiwan\", \"Thailand\"], \"name\": \"\", \"z\": [1.0, 66.0, 215.0, 531.0, 3150.0, 185.0, 1443.0, 63.0, 32.0, 117.0], \"type\": \"choropleth\"}], \"name\": \"2/26/2020\"}, {\"data\": [{\"coloraxis\": \"coloraxis\", \"geo\": \"geo\", \"hovertemplate\": \"<b>%{hovertext}</b><br><br>reporting date=2/27/2020<br>country=%{location}<br>case_in_country=%{z}<extra></extra>\", \"hovertext\": [\"Canada\", \"France\", \"Germany\", \"Hong Kong\", \"Japan\", \"Malaysia\", \"Spain\", \"UAE\", \"UK\", \"USA\"], \"locationmode\": \"country names\", \"locations\": [\"Canada\", \"France\", \"Germany\", \"Hong Kong\", \"Japan\", \"Malaysia\", \"Spain\", \"UAE\", \"UK\", \"USA\"], \"name\": \"\", \"z\": [12.0, 570.0, 825.0, 185.0, 4117.0, 23.0, 234.0, 99.0, 45.0, 18.0], \"type\": \"choropleth\"}], \"name\": \"2/27/2020\"}, {\"data\": [{\"coloraxis\": \"coloraxis\", \"geo\": \"geo\", \"hovertemplate\": \"<b>%{hovertext}</b><br><br>reporting date=2/28/2020<br>country=%{location}<br>case_in_country=%{z}<extra></extra>\", \"hovertext\": [\"France\", \"Germany\", \"Spain\", \"Taiwan\", \"Thailand\", \"UAE\", \"UK\"], \"locationmode\": \"country names\", \"locations\": [\"France\", \"Germany\", \"Spain\", \"Taiwan\", \"Thailand\", \"UAE\", \"UK\"], \"name\": \"\", \"z\": [39.0, 309.0, 270.0, 67.0, 41.0, 41.0, 74.0], \"type\": \"choropleth\"}], \"name\": \"2/28/2020\"}]);\n",
       "                        }).then(function(){\n",
       "                            \n",
       "var gd = document.getElementById('5811b139-8ced-48f5-a765-5a5aafefc2d2');\n",
       "var x = new MutationObserver(function (mutations, observer) {{\n",
       "        var display = window.getComputedStyle(gd).display;\n",
       "        if (!display || display === 'none') {{\n",
       "            console.log([gd, 'removed!']);\n",
       "            Plotly.purge(gd);\n",
       "            observer.disconnect();\n",
       "        }}\n",
       "}});\n",
       "\n",
       "// Listen for the removal of the full notebook cells\n",
       "var notebookContainer = gd.closest('#notebook-container');\n",
       "if (notebookContainer) {{\n",
       "    x.observe(notebookContainer, {childList: true});\n",
       "}}\n",
       "\n",
       "// Listen for the clearing of the current output cell\n",
       "var outputEl = gd.closest('.output');\n",
       "if (outputEl) {{\n",
       "    x.observe(outputEl, {childList: true});\n",
       "}}\n",
       "\n",
       "                        })\n",
       "                };\n",
       "                });\n",
       "            </script>\n",
       "        </div>"
      ]
     },
     "metadata": {},
     "output_type": "display_data"
    }
   ],
   "source": [
    "# Creating the visualization\n",
    "fig = px.choropleth(df_countrydate, \n",
    "                    locations=\"country\", \n",
    "                    locationmode = \"country names\",\n",
    "                    color=\"case_in_country\", \n",
    "                    hover_name=\"country\", \n",
    "                    animation_frame=\"reporting date\"\n",
    "                   )\n",
    "fig.update_layout(\n",
    "    title_text = 'Spread of COVID-19',\n",
    "    title_x = 0.5,\n",
    "    geo=dict(\n",
    "        showframe = False,\n",
    "        showcoastlines = False,\n",
    "    ))\n",
    "fig"
   ]
  }
 ],
 "metadata": {
  "kernelspec": {
   "display_name": "Python 3",
   "language": "python",
   "name": "python3"
  },
  "language_info": {
   "codemirror_mode": {
    "name": "ipython",
    "version": 3
   },
   "file_extension": ".py",
   "mimetype": "text/x-python",
   "name": "python",
   "nbconvert_exporter": "python",
   "pygments_lexer": "ipython3",
   "version": "3.7.4"
  }
 },
 "nbformat": 4,
 "nbformat_minor": 2
}
